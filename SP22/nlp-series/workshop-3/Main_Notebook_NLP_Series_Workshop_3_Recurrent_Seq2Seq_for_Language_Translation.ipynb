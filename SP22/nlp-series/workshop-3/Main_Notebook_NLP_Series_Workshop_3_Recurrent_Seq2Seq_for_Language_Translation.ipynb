{
  "nbformat": 4,
  "nbformat_minor": 0,
  "metadata": {
    "colab": {
      "name": "Main Notebook: NLP Series Workshop 3: Recurrent Seq2Seq for Language Translation.ipynb",
      "provenance": [],
      "collapsed_sections": []
    },
    "kernelspec": {
      "name": "python3",
      "display_name": "Python 3"
    },
    "language_info": {
      "name": "python"
    }
  },
  "cells": [
    {
      "cell_type": "markdown",
      "source": [
        "# Main Notebook: NLP Series Workshop 3: Recurrent Seq2Seq for Language Translation"
      ],
      "metadata": {
        "id": "LkY5yjYwOV4r"
      }
    },
    {
      "cell_type": "markdown",
      "source": [
        "Conventions used:\n",
        "\n",
        "❗ - Required <br>\n",
        "❓ - Question <br>"
      ],
      "metadata": {
        "id": "LZSP5h2zOzRs"
      }
    },
    {
      "cell_type": "markdown",
      "source": [
        "Credit to these wonderful resources which we used as a basis for this workshop: \n",
        "\n",
        "* https://keras.io/examples/nlp/lstm_seq2seq/\n",
        "* https://medium.com/analytics-vidhya/encoder-decoder-seq2seq-models-clearly-explained-c34186fbf49b\n",
        "* https://www.analyticsvidhya.com/blog/2020/08/a-simple-introduction-to-sequence-to-sequence-models/#:~:text=Sequence%20to%20Sequence%20"
      ],
      "metadata": {
        "id": "QvyXGlZnO4Qy"
      }
    },
    {
      "cell_type": "markdown",
      "source": [
        "# 1. Setup and Exploration"
      ],
      "metadata": {
        "id": "Wr--GpTnPAb3"
      }
    },
    {
      "cell_type": "markdown",
      "source": [
        "## 1.1. Setup"
      ],
      "metadata": {
        "id": "BAxtAzE4PLfV"
      }
    },
    {
      "cell_type": "markdown",
      "source": [
        "The dataset we'll use can be found here: http://www.manythings.org/anki/fra-eng.zip"
      ],
      "metadata": {
        "id": "1vz2X--TPAXQ"
      }
    },
    {
      "cell_type": "markdown",
      "source": [
        "Download Dataset"
      ],
      "metadata": {
        "id": "nHU4fZGcPkkl"
      }
    },
    {
      "cell_type": "code",
      "source": [
        "!curl -O http://www.manythings.org/anki/fra-eng.zip\n",
        "!unzip fra-eng.zip"
      ],
      "metadata": {
        "colab": {
          "base_uri": "https://localhost:8080/"
        },
        "id": "4RJwg7wEPmhz",
        "outputId": "9d99405a-0fe6-4719-eb2b-4e936ce87202"
      },
      "execution_count": 1,
      "outputs": [
        {
          "output_type": "stream",
          "name": "stdout",
          "text": [
            "  % Total    % Received % Xferd  Average Speed   Time    Time     Time  Current\n",
            "                                 Dload  Upload   Total   Spent    Left  Speed\n",
            "\r  0     0    0     0    0     0      0      0 --:--:-- --:--:-- --:--:--     0\r100 6457k  100 6457k    0     0  53.8M      0 --:--:-- --:--:-- --:--:-- 53.8M\n",
            "Archive:  fra-eng.zip\n",
            "  inflating: _about.txt              \n",
            "  inflating: fra.txt                 \n"
          ]
        }
      ]
    },
    {
      "cell_type": "markdown",
      "source": [
        "Import Libraries"
      ],
      "metadata": {
        "id": "0lhO7RJjPjNm"
      }
    },
    {
      "cell_type": "code",
      "source": [
        "import numpy as np\n",
        "import tensorflow as tf\n",
        "from tensorflow import keras\n",
        "import pandas as pd"
      ],
      "metadata": {
        "id": "xAf1bLCUOy7U"
      },
      "execution_count": 19,
      "outputs": []
    },
    {
      "cell_type": "markdown",
      "source": [
        "Configuration"
      ],
      "metadata": {
        "id": "ExQvzcD4yxs6"
      }
    },
    {
      "cell_type": "code",
      "source": [
        "batch_size = 64  # Batch size for training.\n",
        "epochs = 10  # Number of epochs to train for.\n",
        "latent_dim = 256  # Latent dimensionality of the encoding space.\n",
        "num_samples = 10000  # Number of samples to train on.\n",
        "# Path to the data txt file on disk.\n",
        "data_path = \"fra.txt\"\n",
        "data = pd.read_csv(data_path, header=None, sep=\"\\t\", names=[\"English\",\"French\", \"Citation\"], encoding=\"utf-8\")"
      ],
      "metadata": {
        "id": "d6nxN_g3yw5b"
      },
      "execution_count": 20,
      "outputs": []
    },
    {
      "cell_type": "markdown",
      "source": [
        "## 1.2. Exploration"
      ],
      "metadata": {
        "id": "UIyXwnahVCEW"
      }
    },
    {
      "cell_type": "markdown",
      "source": [
        "This data set is split into short English sentences and their French translations. Let's take a look!"
      ],
      "metadata": {
        "id": "4tFSTe7YVd8Y"
      }
    },
    {
      "cell_type": "code",
      "source": [
        "data"
      ],
      "metadata": {
        "colab": {
          "base_uri": "https://localhost:8080/",
          "height": 424
        },
        "id": "68KakyGXpwr9",
        "outputId": "f3434ea2-6ebf-42d1-8f47-7d66502ba13e"
      },
      "execution_count": 21,
      "outputs": [
        {
          "output_type": "execute_result",
          "data": {
            "text/plain": [
              "                                                  English  \\\n",
              "0                                                     Go.   \n",
              "1                                                     Go.   \n",
              "2                                                     Go.   \n",
              "3                                                     Hi.   \n",
              "4                                                     Hi.   \n",
              "...                                                   ...   \n",
              "194508  A carbon footprint is the amount of carbon dio...   \n",
              "194509  Death is something that we're often discourage...   \n",
              "194510  Since there are usually multiple websites on a...   \n",
              "194511  If someone who doesn't know your background sa...   \n",
              "194512  It may be impossible to get a completely error...   \n",
              "\n",
              "                                                   French  \\\n",
              "0                                                    Va !   \n",
              "1                                                 Marche.   \n",
              "2                                                 Bouge !   \n",
              "3                                                 Salut !   \n",
              "4                                                  Salut.   \n",
              "...                                                   ...   \n",
              "194508  Une empreinte carbone est la somme de pollutio...   \n",
              "194509  La mort est une chose qu'on nous décourage sou...   \n",
              "194510  Puisqu'il y a de multiples sites web sur chaqu...   \n",
              "194511  Si quelqu'un qui ne connaît pas vos antécédent...   \n",
              "194512  Il est peut-être impossible d'obtenir un Corpu...   \n",
              "\n",
              "                                                 Citation  \n",
              "0       CC-BY 2.0 (France) Attribution: tatoeba.org #2...  \n",
              "1       CC-BY 2.0 (France) Attribution: tatoeba.org #2...  \n",
              "2       CC-BY 2.0 (France) Attribution: tatoeba.org #2...  \n",
              "3       CC-BY 2.0 (France) Attribution: tatoeba.org #5...  \n",
              "4       CC-BY 2.0 (France) Attribution: tatoeba.org #5...  \n",
              "...                                                   ...  \n",
              "194508  CC-BY 2.0 (France) Attribution: tatoeba.org #1...  \n",
              "194509  CC-BY 2.0 (France) Attribution: tatoeba.org #1...  \n",
              "194510  CC-BY 2.0 (France) Attribution: tatoeba.org #9...  \n",
              "194511  CC-BY 2.0 (France) Attribution: tatoeba.org #9...  \n",
              "194512  CC-BY 2.0 (France) Attribution: tatoeba.org #2...  \n",
              "\n",
              "[194513 rows x 3 columns]"
            ],
            "text/html": [
              "\n",
              "  <div id=\"df-712bb713-9b59-4320-8270-4df04060d004\">\n",
              "    <div class=\"colab-df-container\">\n",
              "      <div>\n",
              "<style scoped>\n",
              "    .dataframe tbody tr th:only-of-type {\n",
              "        vertical-align: middle;\n",
              "    }\n",
              "\n",
              "    .dataframe tbody tr th {\n",
              "        vertical-align: top;\n",
              "    }\n",
              "\n",
              "    .dataframe thead th {\n",
              "        text-align: right;\n",
              "    }\n",
              "</style>\n",
              "<table border=\"1\" class=\"dataframe\">\n",
              "  <thead>\n",
              "    <tr style=\"text-align: right;\">\n",
              "      <th></th>\n",
              "      <th>English</th>\n",
              "      <th>French</th>\n",
              "      <th>Citation</th>\n",
              "    </tr>\n",
              "  </thead>\n",
              "  <tbody>\n",
              "    <tr>\n",
              "      <th>0</th>\n",
              "      <td>Go.</td>\n",
              "      <td>Va !</td>\n",
              "      <td>CC-BY 2.0 (France) Attribution: tatoeba.org #2...</td>\n",
              "    </tr>\n",
              "    <tr>\n",
              "      <th>1</th>\n",
              "      <td>Go.</td>\n",
              "      <td>Marche.</td>\n",
              "      <td>CC-BY 2.0 (France) Attribution: tatoeba.org #2...</td>\n",
              "    </tr>\n",
              "    <tr>\n",
              "      <th>2</th>\n",
              "      <td>Go.</td>\n",
              "      <td>Bouge !</td>\n",
              "      <td>CC-BY 2.0 (France) Attribution: tatoeba.org #2...</td>\n",
              "    </tr>\n",
              "    <tr>\n",
              "      <th>3</th>\n",
              "      <td>Hi.</td>\n",
              "      <td>Salut !</td>\n",
              "      <td>CC-BY 2.0 (France) Attribution: tatoeba.org #5...</td>\n",
              "    </tr>\n",
              "    <tr>\n",
              "      <th>4</th>\n",
              "      <td>Hi.</td>\n",
              "      <td>Salut.</td>\n",
              "      <td>CC-BY 2.0 (France) Attribution: tatoeba.org #5...</td>\n",
              "    </tr>\n",
              "    <tr>\n",
              "      <th>...</th>\n",
              "      <td>...</td>\n",
              "      <td>...</td>\n",
              "      <td>...</td>\n",
              "    </tr>\n",
              "    <tr>\n",
              "      <th>194508</th>\n",
              "      <td>A carbon footprint is the amount of carbon dio...</td>\n",
              "      <td>Une empreinte carbone est la somme de pollutio...</td>\n",
              "      <td>CC-BY 2.0 (France) Attribution: tatoeba.org #1...</td>\n",
              "    </tr>\n",
              "    <tr>\n",
              "      <th>194509</th>\n",
              "      <td>Death is something that we're often discourage...</td>\n",
              "      <td>La mort est une chose qu'on nous décourage sou...</td>\n",
              "      <td>CC-BY 2.0 (France) Attribution: tatoeba.org #1...</td>\n",
              "    </tr>\n",
              "    <tr>\n",
              "      <th>194510</th>\n",
              "      <td>Since there are usually multiple websites on a...</td>\n",
              "      <td>Puisqu'il y a de multiples sites web sur chaqu...</td>\n",
              "      <td>CC-BY 2.0 (France) Attribution: tatoeba.org #9...</td>\n",
              "    </tr>\n",
              "    <tr>\n",
              "      <th>194511</th>\n",
              "      <td>If someone who doesn't know your background sa...</td>\n",
              "      <td>Si quelqu'un qui ne connaît pas vos antécédent...</td>\n",
              "      <td>CC-BY 2.0 (France) Attribution: tatoeba.org #9...</td>\n",
              "    </tr>\n",
              "    <tr>\n",
              "      <th>194512</th>\n",
              "      <td>It may be impossible to get a completely error...</td>\n",
              "      <td>Il est peut-être impossible d'obtenir un Corpu...</td>\n",
              "      <td>CC-BY 2.0 (France) Attribution: tatoeba.org #2...</td>\n",
              "    </tr>\n",
              "  </tbody>\n",
              "</table>\n",
              "<p>194513 rows × 3 columns</p>\n",
              "</div>\n",
              "      <button class=\"colab-df-convert\" onclick=\"convertToInteractive('df-712bb713-9b59-4320-8270-4df04060d004')\"\n",
              "              title=\"Convert this dataframe to an interactive table.\"\n",
              "              style=\"display:none;\">\n",
              "        \n",
              "  <svg xmlns=\"http://www.w3.org/2000/svg\" height=\"24px\"viewBox=\"0 0 24 24\"\n",
              "       width=\"24px\">\n",
              "    <path d=\"M0 0h24v24H0V0z\" fill=\"none\"/>\n",
              "    <path d=\"M18.56 5.44l.94 2.06.94-2.06 2.06-.94-2.06-.94-.94-2.06-.94 2.06-2.06.94zm-11 1L8.5 8.5l.94-2.06 2.06-.94-2.06-.94L8.5 2.5l-.94 2.06-2.06.94zm10 10l.94 2.06.94-2.06 2.06-.94-2.06-.94-.94-2.06-.94 2.06-2.06.94z\"/><path d=\"M17.41 7.96l-1.37-1.37c-.4-.4-.92-.59-1.43-.59-.52 0-1.04.2-1.43.59L10.3 9.45l-7.72 7.72c-.78.78-.78 2.05 0 2.83L4 21.41c.39.39.9.59 1.41.59.51 0 1.02-.2 1.41-.59l7.78-7.78 2.81-2.81c.8-.78.8-2.07 0-2.86zM5.41 20L4 18.59l7.72-7.72 1.47 1.35L5.41 20z\"/>\n",
              "  </svg>\n",
              "      </button>\n",
              "      \n",
              "  <style>\n",
              "    .colab-df-container {\n",
              "      display:flex;\n",
              "      flex-wrap:wrap;\n",
              "      gap: 12px;\n",
              "    }\n",
              "\n",
              "    .colab-df-convert {\n",
              "      background-color: #E8F0FE;\n",
              "      border: none;\n",
              "      border-radius: 50%;\n",
              "      cursor: pointer;\n",
              "      display: none;\n",
              "      fill: #1967D2;\n",
              "      height: 32px;\n",
              "      padding: 0 0 0 0;\n",
              "      width: 32px;\n",
              "    }\n",
              "\n",
              "    .colab-df-convert:hover {\n",
              "      background-color: #E2EBFA;\n",
              "      box-shadow: 0px 1px 2px rgba(60, 64, 67, 0.3), 0px 1px 3px 1px rgba(60, 64, 67, 0.15);\n",
              "      fill: #174EA6;\n",
              "    }\n",
              "\n",
              "    [theme=dark] .colab-df-convert {\n",
              "      background-color: #3B4455;\n",
              "      fill: #D2E3FC;\n",
              "    }\n",
              "\n",
              "    [theme=dark] .colab-df-convert:hover {\n",
              "      background-color: #434B5C;\n",
              "      box-shadow: 0px 1px 3px 1px rgba(0, 0, 0, 0.15);\n",
              "      filter: drop-shadow(0px 1px 2px rgba(0, 0, 0, 0.3));\n",
              "      fill: #FFFFFF;\n",
              "    }\n",
              "  </style>\n",
              "\n",
              "      <script>\n",
              "        const buttonEl =\n",
              "          document.querySelector('#df-712bb713-9b59-4320-8270-4df04060d004 button.colab-df-convert');\n",
              "        buttonEl.style.display =\n",
              "          google.colab.kernel.accessAllowed ? 'block' : 'none';\n",
              "\n",
              "        async function convertToInteractive(key) {\n",
              "          const element = document.querySelector('#df-712bb713-9b59-4320-8270-4df04060d004');\n",
              "          const dataTable =\n",
              "            await google.colab.kernel.invokeFunction('convertToInteractive',\n",
              "                                                     [key], {});\n",
              "          if (!dataTable) return;\n",
              "\n",
              "          const docLinkHtml = 'Like what you see? Visit the ' +\n",
              "            '<a target=\"_blank\" href=https://colab.research.google.com/notebooks/data_table.ipynb>data table notebook</a>'\n",
              "            + ' to learn more about interactive tables.';\n",
              "          element.innerHTML = '';\n",
              "          dataTable['output_type'] = 'display_data';\n",
              "          await google.colab.output.renderOutput(dataTable, element);\n",
              "          const docLink = document.createElement('div');\n",
              "          docLink.innerHTML = docLinkHtml;\n",
              "          element.appendChild(docLink);\n",
              "        }\n",
              "      </script>\n",
              "    </div>\n",
              "  </div>\n",
              "  "
            ]
          },
          "metadata": {},
          "execution_count": 21
        }
      ]
    },
    {
      "cell_type": "code",
      "source": [
        "data = data.head(num_samples)"
      ],
      "metadata": {
        "id": "eFAhPOvLRHS5"
      },
      "execution_count": 22,
      "outputs": []
    },
    {
      "cell_type": "code",
      "source": [
        "data"
      ],
      "metadata": {
        "colab": {
          "base_uri": "https://localhost:8080/",
          "height": 424
        },
        "id": "L_yvvdZnpjxU",
        "outputId": "c1055b09-4191-430d-ed2d-155c74bbc3db"
      },
      "execution_count": 23,
      "outputs": [
        {
          "output_type": "execute_result",
          "data": {
            "text/plain": [
              "              English                     French  \\\n",
              "0                 Go.                       Va !   \n",
              "1                 Go.                    Marche.   \n",
              "2                 Go.                    Bouge !   \n",
              "3                 Hi.                    Salut !   \n",
              "4                 Hi.                     Salut.   \n",
              "...               ...                        ...   \n",
              "9995  Happy holidays.          Bonnes vacances !   \n",
              "9996  Has it arrived?  Est-ce que c'est arrivé ?   \n",
              "9997  Have they gone?          Sont-ils partis ?   \n",
              "9998  Have they gone?       Sont-elles parties ?   \n",
              "9999  Have you eaten?              Tu as mangé ?   \n",
              "\n",
              "                                               Citation  \n",
              "0     CC-BY 2.0 (France) Attribution: tatoeba.org #2...  \n",
              "1     CC-BY 2.0 (France) Attribution: tatoeba.org #2...  \n",
              "2     CC-BY 2.0 (France) Attribution: tatoeba.org #2...  \n",
              "3     CC-BY 2.0 (France) Attribution: tatoeba.org #5...  \n",
              "4     CC-BY 2.0 (France) Attribution: tatoeba.org #5...  \n",
              "...                                                 ...  \n",
              "9995  CC-BY 2.0 (France) Attribution: tatoeba.org #2...  \n",
              "9996  CC-BY 2.0 (France) Attribution: tatoeba.org #1...  \n",
              "9997  CC-BY 2.0 (France) Attribution: tatoeba.org #2...  \n",
              "9998  CC-BY 2.0 (France) Attribution: tatoeba.org #2...  \n",
              "9999  CC-BY 2.0 (France) Attribution: tatoeba.org #9...  \n",
              "\n",
              "[10000 rows x 3 columns]"
            ],
            "text/html": [
              "\n",
              "  <div id=\"df-f4a70a2c-a475-4e54-8538-49b1811ff329\">\n",
              "    <div class=\"colab-df-container\">\n",
              "      <div>\n",
              "<style scoped>\n",
              "    .dataframe tbody tr th:only-of-type {\n",
              "        vertical-align: middle;\n",
              "    }\n",
              "\n",
              "    .dataframe tbody tr th {\n",
              "        vertical-align: top;\n",
              "    }\n",
              "\n",
              "    .dataframe thead th {\n",
              "        text-align: right;\n",
              "    }\n",
              "</style>\n",
              "<table border=\"1\" class=\"dataframe\">\n",
              "  <thead>\n",
              "    <tr style=\"text-align: right;\">\n",
              "      <th></th>\n",
              "      <th>English</th>\n",
              "      <th>French</th>\n",
              "      <th>Citation</th>\n",
              "    </tr>\n",
              "  </thead>\n",
              "  <tbody>\n",
              "    <tr>\n",
              "      <th>0</th>\n",
              "      <td>Go.</td>\n",
              "      <td>Va !</td>\n",
              "      <td>CC-BY 2.0 (France) Attribution: tatoeba.org #2...</td>\n",
              "    </tr>\n",
              "    <tr>\n",
              "      <th>1</th>\n",
              "      <td>Go.</td>\n",
              "      <td>Marche.</td>\n",
              "      <td>CC-BY 2.0 (France) Attribution: tatoeba.org #2...</td>\n",
              "    </tr>\n",
              "    <tr>\n",
              "      <th>2</th>\n",
              "      <td>Go.</td>\n",
              "      <td>Bouge !</td>\n",
              "      <td>CC-BY 2.0 (France) Attribution: tatoeba.org #2...</td>\n",
              "    </tr>\n",
              "    <tr>\n",
              "      <th>3</th>\n",
              "      <td>Hi.</td>\n",
              "      <td>Salut !</td>\n",
              "      <td>CC-BY 2.0 (France) Attribution: tatoeba.org #5...</td>\n",
              "    </tr>\n",
              "    <tr>\n",
              "      <th>4</th>\n",
              "      <td>Hi.</td>\n",
              "      <td>Salut.</td>\n",
              "      <td>CC-BY 2.0 (France) Attribution: tatoeba.org #5...</td>\n",
              "    </tr>\n",
              "    <tr>\n",
              "      <th>...</th>\n",
              "      <td>...</td>\n",
              "      <td>...</td>\n",
              "      <td>...</td>\n",
              "    </tr>\n",
              "    <tr>\n",
              "      <th>9995</th>\n",
              "      <td>Happy holidays.</td>\n",
              "      <td>Bonnes vacances !</td>\n",
              "      <td>CC-BY 2.0 (France) Attribution: tatoeba.org #2...</td>\n",
              "    </tr>\n",
              "    <tr>\n",
              "      <th>9996</th>\n",
              "      <td>Has it arrived?</td>\n",
              "      <td>Est-ce que c'est arrivé ?</td>\n",
              "      <td>CC-BY 2.0 (France) Attribution: tatoeba.org #1...</td>\n",
              "    </tr>\n",
              "    <tr>\n",
              "      <th>9997</th>\n",
              "      <td>Have they gone?</td>\n",
              "      <td>Sont-ils partis ?</td>\n",
              "      <td>CC-BY 2.0 (France) Attribution: tatoeba.org #2...</td>\n",
              "    </tr>\n",
              "    <tr>\n",
              "      <th>9998</th>\n",
              "      <td>Have they gone?</td>\n",
              "      <td>Sont-elles parties ?</td>\n",
              "      <td>CC-BY 2.0 (France) Attribution: tatoeba.org #2...</td>\n",
              "    </tr>\n",
              "    <tr>\n",
              "      <th>9999</th>\n",
              "      <td>Have you eaten?</td>\n",
              "      <td>Tu as mangé ?</td>\n",
              "      <td>CC-BY 2.0 (France) Attribution: tatoeba.org #9...</td>\n",
              "    </tr>\n",
              "  </tbody>\n",
              "</table>\n",
              "<p>10000 rows × 3 columns</p>\n",
              "</div>\n",
              "      <button class=\"colab-df-convert\" onclick=\"convertToInteractive('df-f4a70a2c-a475-4e54-8538-49b1811ff329')\"\n",
              "              title=\"Convert this dataframe to an interactive table.\"\n",
              "              style=\"display:none;\">\n",
              "        \n",
              "  <svg xmlns=\"http://www.w3.org/2000/svg\" height=\"24px\"viewBox=\"0 0 24 24\"\n",
              "       width=\"24px\">\n",
              "    <path d=\"M0 0h24v24H0V0z\" fill=\"none\"/>\n",
              "    <path d=\"M18.56 5.44l.94 2.06.94-2.06 2.06-.94-2.06-.94-.94-2.06-.94 2.06-2.06.94zm-11 1L8.5 8.5l.94-2.06 2.06-.94-2.06-.94L8.5 2.5l-.94 2.06-2.06.94zm10 10l.94 2.06.94-2.06 2.06-.94-2.06-.94-.94-2.06-.94 2.06-2.06.94z\"/><path d=\"M17.41 7.96l-1.37-1.37c-.4-.4-.92-.59-1.43-.59-.52 0-1.04.2-1.43.59L10.3 9.45l-7.72 7.72c-.78.78-.78 2.05 0 2.83L4 21.41c.39.39.9.59 1.41.59.51 0 1.02-.2 1.41-.59l7.78-7.78 2.81-2.81c.8-.78.8-2.07 0-2.86zM5.41 20L4 18.59l7.72-7.72 1.47 1.35L5.41 20z\"/>\n",
              "  </svg>\n",
              "      </button>\n",
              "      \n",
              "  <style>\n",
              "    .colab-df-container {\n",
              "      display:flex;\n",
              "      flex-wrap:wrap;\n",
              "      gap: 12px;\n",
              "    }\n",
              "\n",
              "    .colab-df-convert {\n",
              "      background-color: #E8F0FE;\n",
              "      border: none;\n",
              "      border-radius: 50%;\n",
              "      cursor: pointer;\n",
              "      display: none;\n",
              "      fill: #1967D2;\n",
              "      height: 32px;\n",
              "      padding: 0 0 0 0;\n",
              "      width: 32px;\n",
              "    }\n",
              "\n",
              "    .colab-df-convert:hover {\n",
              "      background-color: #E2EBFA;\n",
              "      box-shadow: 0px 1px 2px rgba(60, 64, 67, 0.3), 0px 1px 3px 1px rgba(60, 64, 67, 0.15);\n",
              "      fill: #174EA6;\n",
              "    }\n",
              "\n",
              "    [theme=dark] .colab-df-convert {\n",
              "      background-color: #3B4455;\n",
              "      fill: #D2E3FC;\n",
              "    }\n",
              "\n",
              "    [theme=dark] .colab-df-convert:hover {\n",
              "      background-color: #434B5C;\n",
              "      box-shadow: 0px 1px 3px 1px rgba(0, 0, 0, 0.15);\n",
              "      filter: drop-shadow(0px 1px 2px rgba(0, 0, 0, 0.3));\n",
              "      fill: #FFFFFF;\n",
              "    }\n",
              "  </style>\n",
              "\n",
              "      <script>\n",
              "        const buttonEl =\n",
              "          document.querySelector('#df-f4a70a2c-a475-4e54-8538-49b1811ff329 button.colab-df-convert');\n",
              "        buttonEl.style.display =\n",
              "          google.colab.kernel.accessAllowed ? 'block' : 'none';\n",
              "\n",
              "        async function convertToInteractive(key) {\n",
              "          const element = document.querySelector('#df-f4a70a2c-a475-4e54-8538-49b1811ff329');\n",
              "          const dataTable =\n",
              "            await google.colab.kernel.invokeFunction('convertToInteractive',\n",
              "                                                     [key], {});\n",
              "          if (!dataTable) return;\n",
              "\n",
              "          const docLinkHtml = 'Like what you see? Visit the ' +\n",
              "            '<a target=\"_blank\" href=https://colab.research.google.com/notebooks/data_table.ipynb>data table notebook</a>'\n",
              "            + ' to learn more about interactive tables.';\n",
              "          element.innerHTML = '';\n",
              "          dataTable['output_type'] = 'display_data';\n",
              "          await google.colab.output.renderOutput(dataTable, element);\n",
              "          const docLink = document.createElement('div');\n",
              "          docLink.innerHTML = docLinkHtml;\n",
              "          element.appendChild(docLink);\n",
              "        }\n",
              "      </script>\n",
              "    </div>\n",
              "  </div>\n",
              "  "
            ]
          },
          "metadata": {},
          "execution_count": 23
        }
      ]
    },
    {
      "cell_type": "markdown",
      "source": [
        "# 2. Preprocessing"
      ],
      "metadata": {
        "id": "rRgf4hwfWzs9"
      }
    },
    {
      "cell_type": "markdown",
      "source": [
        "First, let's split up the data.\n",
        "\n",
        "Our input text is English and our output text are the corresponding French translations. We'll save all this data to lists `input_texts` and `target_texts`.\n",
        "\n",
        "From these arrays, we'll create 2 sets.\n",
        "- `input_characters` will be all the unique characters in the input text \n",
        "- `target_characters` will be all the unique characters in the target text\n",
        "\n",
        "A set is like an array, but there are *no duplicate elements*. These sets will be useful in our next steps of preprocessing!"
      ],
      "metadata": {
        "id": "BuyFZmwsq5yk"
      }
    },
    {
      "cell_type": "code",
      "source": [
        "# get all sentences from input (English) and target (French)\n",
        "input_texts = data['English'].to_numpy()\n",
        "target_texts = data['French'].to_numpy()\n",
        "\n",
        "# get all unique characters in input and target using set()\n",
        "input_characters = set(''.join(input_texts))\n",
        "target_characters = set(''.join(target_texts))"
      ],
      "metadata": {
        "id": "WRPahlCMsRjj"
      },
      "execution_count": 31,
      "outputs": []
    },
    {
      "cell_type": "code",
      "source": [
        "input_texts"
      ],
      "metadata": {
        "colab": {
          "base_uri": "https://localhost:8080/"
        },
        "id": "1EL4sdOAtSFB",
        "outputId": "f6d7757e-b4aa-49e6-ea6a-1e36cb72fb8c"
      },
      "execution_count": 32,
      "outputs": [
        {
          "output_type": "execute_result",
          "data": {
            "text/plain": [
              "array(['Go.', 'Go.', 'Go.', ..., 'Have they gone?', 'Have they gone?',\n",
              "       'Have you eaten?'], dtype=object)"
            ]
          },
          "metadata": {},
          "execution_count": 32
        }
      ]
    },
    {
      "cell_type": "code",
      "source": [
        "target_texts"
      ],
      "metadata": {
        "colab": {
          "base_uri": "https://localhost:8080/"
        },
        "id": "CrkUrp6vtTc8",
        "outputId": "4cd846b2-e21a-4c39-ff29-99bdbe94a34b"
      },
      "execution_count": 33,
      "outputs": [
        {
          "output_type": "execute_result",
          "data": {
            "text/plain": [
              "array(['Va !', 'Marche.', 'Bouge !', ..., 'Sont-ils partis ?',\n",
              "       'Sont-elles parties ?', 'Tu as mangé\\u202f?'], dtype=object)"
            ]
          },
          "metadata": {},
          "execution_count": 33
        }
      ]
    },
    {
      "cell_type": "markdown",
      "source": [
        "__TODO: INSERT VISUAL SHOWING WHAT `input_characters` AND `target_characters` ARE.__"
      ],
      "metadata": {
        "id": "E18mZ55mzFMO"
      }
    },
    {
      "cell_type": "markdown",
      "source": [
        "## Encoding and Decoding"
      ],
      "metadata": {
        "id": "8UrkN7l0xSZ5"
      }
    },
    {
      "cell_type": "markdown",
      "source": [
        "We have three important terms to know for this next section.\n",
        "\n",
        "**Encoder:** The encoder processes each token in the input-sequence. It tries to cram all the information about the input-sequence into a vector of fixed length i.e. the ‘context vector’. After going through all the tokens, the encoder passes this vector onto the decoder.\n",
        "\n",
        "**Context Vector:** A vector of numbers that encodes information in the input sequence (the English text). The Decoder's job is to turn this information into a French sentence.\n",
        "\n",
        "**Decoder:** The decoder reads the context vector and tries to predict the target-sequence token by token."
      ],
      "metadata": {
        "id": "6BNzgDrvw4uh"
      }
    },
    {
      "cell_type": "markdown",
      "source": [
        "![image.png](data:image/png;base64,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)"
      ],
      "metadata": {
        "id": "SixdZ79-xvWy"
      }
    },
    {
      "cell_type": "markdown",
      "source": [
        "It's time to create some variables related to our tokens.\n",
        "\n",
        "In our Seq2Seq model, the individual characters of the English and French words are referred to as tokens."
      ],
      "metadata": {
        "id": "PNURVt8au5V8"
      }
    },
    {
      "cell_type": "code",
      "source": [
        "num_encoder_tokens = len(input_characters)\n",
        "num_decoder_tokens = len(target_characters)\n",
        "max_encoder_seq_length = max([len(txt) for txt in input_texts])\n",
        "max_decoder_seq_length = max([len(txt) for txt in target_texts])"
      ],
      "metadata": {
        "id": "wRvLDamcvOSx"
      },
      "execution_count": 40,
      "outputs": []
    },
    {
      "cell_type": "markdown",
      "source": [
        "Let's check out some stats about our data!"
      ],
      "metadata": {
        "id": "3gWFQvJKzh-e"
      }
    },
    {
      "cell_type": "code",
      "source": [
        "print(\"Number of samples:\", len(input_texts))\n",
        "print(\"Number of unique input tokens:\", num_encoder_tokens)\n",
        "print(\"Number of unique output tokens:\", num_decoder_tokens)\n",
        "print(\"Max sequence length for inputs:\", max_encoder_seq_length)\n",
        "print(\"Max sequence length for outputs:\", max_decoder_seq_length)"
      ],
      "metadata": {
        "colab": {
          "base_uri": "https://localhost:8080/"
        },
        "id": "4bSZUfv8w_Ju",
        "outputId": "5f9cb38e-62eb-4bf4-df95-324d9552e1b4"
      },
      "execution_count": 41,
      "outputs": [
        {
          "output_type": "stream",
          "name": "stdout",
          "text": [
            "Number of samples: 10000\n",
            "Number of unique input tokens: 71\n",
            "Number of unique output tokens: 91\n",
            "Max sequence length for inputs: 15\n",
            "Max sequence length for outputs: 57\n"
          ]
        }
      ]
    },
    {
      "cell_type": "markdown",
      "source": [
        "### Preparing for Encoding & Decoding"
      ],
      "metadata": {
        "id": "grl_Lza2PUdF"
      }
    },
    {
      "cell_type": "markdown",
      "source": [
        "We will be mapping from a given character to the index that represents said character in the encoder/decoder data"
      ],
      "metadata": {
        "id": "xJNwFlcRNFWw"
      }
    },
    {
      "cell_type": "code",
      "source": [
        "input_token_index = dict([(char, i) for i, char in enumerate(input_characters)])\n",
        "target_token_index = dict([(char, i) for i, char in enumerate(target_characters)])"
      ],
      "metadata": {
        "id": "cp531ORsND0z"
      },
      "execution_count": 42,
      "outputs": []
    },
    {
      "cell_type": "markdown",
      "source": [
        "__TODO: INSERT A VISUAL SHOWING WHAT THESE 2 VARIABLES ARE.__"
      ],
      "metadata": {
        "id": "xjifv3GQy4Z-"
      }
    },
    {
      "cell_type": "markdown",
      "source": [
        "Now, we will create three arrays filled with zeros. These will be arrays based on the length of the input texts, the length of the longest sequence, and number of tokens.\n",
        "\n"
      ],
      "metadata": {
        "id": "PpkdSksxN75b"
      }
    },
    {
      "cell_type": "code",
      "source": [
        "encoder_input_data = np.zeros(\n",
        "    (len(input_texts), max_encoder_seq_length, num_encoder_tokens), dtype=\"float32\"\n",
        ")\n",
        "decoder_input_data = np.zeros(\n",
        "    (len(input_texts), max_decoder_seq_length, num_decoder_tokens), dtype=\"float32\"\n",
        ")\n",
        "decoder_target_data = np.zeros(\n",
        "    (len(input_texts), max_decoder_seq_length, num_decoder_tokens), dtype=\"float32\"\n",
        ")"
      ],
      "metadata": {
        "id": "EmBh5v0IN_fK"
      },
      "execution_count": 45,
      "outputs": []
    },
    {
      "cell_type": "code",
      "source": [
        "print(\"encoder_input_data shape\", encoder_input_data.shape)\n",
        "print(\"decoder_input_data shape\", decoder_input_data.shape)\n",
        "print(\"decoder_target_data shape\", decoder_target_data.shape)"
      ],
      "metadata": {
        "colab": {
          "base_uri": "https://localhost:8080/"
        },
        "id": "u2XqcYeIvg9G",
        "outputId": "be31c2a7-72a6-45f5-9289-60128e4f0f50"
      },
      "execution_count": 47,
      "outputs": [
        {
          "output_type": "stream",
          "name": "stdout",
          "text": [
            "encoder_input_data shape (10000, 15, 71)\n",
            "decoder_input_data shape (10000, 57, 91)\n",
            "decoder_target_data shape (10000, 57, 91)\n"
          ]
        }
      ]
    },
    {
      "cell_type": "markdown",
      "source": [
        "#### In this section, we will be wrapping up preprocessing and finally building our encoder and decoder."
      ],
      "metadata": {
        "id": "s9MiNpoBO00a"
      }
    },
    {
      "cell_type": "markdown",
      "source": [
        "After the encoder reads the whole input-sequence, it passes the internal states (the context vector) to the decoder and this is where the prediction of output-sequence begins."
      ],
      "metadata": {
        "id": "BFguW1O0QGMw"
      }
    },
    {
      "cell_type": "code",
      "source": [
        "for i, (input_text, target_text) in enumerate(zip(input_texts, target_texts)):\n",
        "    for t, char in enumerate(input_text):\n",
        "        encoder_input_data[i, t, input_token_index[char]] = 1.0\n",
        "\n",
        "    encoder_input_data[i, t + 1 :, input_token_index[\" \"]] = 1.0\n",
        "\n",
        "    for t, char in enumerate(target_text):\n",
        "        # decoder_target_data is ahead of decoder_input_data by one timestep\n",
        "        decoder_input_data[i, t, target_token_index[char]] = 1.0\n",
        "        if t > 0:\n",
        "            # decoder_target_data will be ahead by one timestep\n",
        "            # and will not include the start character.\n",
        "            decoder_target_data[i, t - 1, target_token_index[char]] = 1.0\n",
        "\n",
        "    decoder_input_data[i, t + 1 :, target_token_index[\" \"]] = 1.0\n",
        "    decoder_target_data[i, t:, target_token_index[\" \"]] = 1.0"
      ],
      "metadata": {
        "id": "7zYqGccYO0Be"
      },
      "execution_count": 48,
      "outputs": []
    },
    {
      "cell_type": "markdown",
      "source": [
        "__TODO: INSERT A VISUAL HERE SHOWING WHAT THE LOOPS ABOVE ARE DOING.__"
      ],
      "metadata": {
        "id": "mXp5orOJyJnm"
      }
    },
    {
      "cell_type": "markdown",
      "source": [
        "We have now vectorized our data and are ready to move on to the next step, building our model!"
      ],
      "metadata": {
        "id": "BYTQsC8DQwh7"
      }
    },
    {
      "cell_type": "markdown",
      "source": [
        "# 3. Building the Model"
      ],
      "metadata": {
        "id": "b3uRJ209opF4"
      }
    },
    {
      "cell_type": "markdown",
      "source": [
        "## What is a Seq2Seq model?"
      ],
      "metadata": {
        "id": "Pgnul6Bpzy4k"
      }
    },
    {
      "cell_type": "markdown",
      "source": [
        "A Seq2Seq model is a type of Recurrent Neural Network (RNN) that we can use for language translation.\n",
        "\n",
        "It commonly uses the Encoder-Decoder architecture, which we are using in this notebook."
      ],
      "metadata": {
        "id": "nUkNXSx3z6Cq"
      }
    },
    {
      "cell_type": "markdown",
      "source": [
        "### What is the Encoder-Decoder architecture (at a high level)?\n",
        "\n",
        "The Encoder reads the input sequence and summarizes the information in something called the internal state vectors or context vector. We discard the outputs of the encoder and only preserve the internal states.\n",
        "\n",
        "Using the final states of the encoder as its initial states, the decoder starts generating the output sequence, and these outputs are also taken into consideration for future outputs."
      ],
      "metadata": {
        "id": "DL6hONjo0Y4O"
      }
    },
    {
      "cell_type": "markdown",
      "source": [
        "#### First, let's define an input sequence and process it."
      ],
      "metadata": {
        "id": "mc5r5zsyo0oU"
      }
    },
    {
      "cell_type": "markdown",
      "source": [
        "We will be using LSTM layers, which provide a sequence of outputs rather than a single value output."
      ],
      "metadata": {
        "id": "62Q_TcmFzWN6"
      }
    },
    {
      "cell_type": "markdown",
      "source": [
        "__TODO: INSERT A VISUAL HERE SHOWING THE LSTM ARCHITECTURE AND A BRIEF HIGH-LEVEL OVERVIEW OF WHAT IT IS.__"
      ],
      "metadata": {
        "id": "pvtraxp6yeDa"
      }
    },
    {
      "cell_type": "code",
      "source": [
        "encoder_inputs = keras.Input(shape=(None, num_encoder_tokens))\n",
        "encoder = keras.layers.LSTM(latent_dim, return_state=True)\n",
        "encoder_outputs, state_h, state_c = encoder(encoder_inputs)"
      ],
      "metadata": {
        "id": "n0etFdDQpTBG"
      },
      "execution_count": 64,
      "outputs": []
    },
    {
      "cell_type": "markdown",
      "source": [
        "__TODO: INSERT VISUAL OF ENCODER ARCHITECTURE.__"
      ],
      "metadata": {
        "id": "FaEh7B4ez6TE"
      }
    },
    {
      "cell_type": "markdown",
      "source": [
        "We need to put these encoder inputs in the context vector and set up the decoder"
      ],
      "metadata": {
        "id": "YBirtGgTpYAh"
      }
    },
    {
      "cell_type": "code",
      "source": [
        "# We discard `encoder_outputs` and only keep the states.\n",
        "encoder_states = [state_h, state_c]\n",
        "\n",
        "# Set up the decoder, using `encoder_states` as initial state.\n",
        "decoder_inputs = keras.Input(shape=(None, num_decoder_tokens))"
      ],
      "metadata": {
        "id": "yEadGlNGpc6v"
      },
      "execution_count": 65,
      "outputs": []
    },
    {
      "cell_type": "markdown",
      "source": [
        "Let's finish setting up the decoder:"
      ],
      "metadata": {
        "id": "yw0YXT8Gppo7"
      }
    },
    {
      "cell_type": "code",
      "source": [
        "# Set up the decoder to return full output sentences\n",
        "decoder_lstm = keras.layers.LSTM(latent_dim, return_sequences=True, return_state=True)\n",
        "\n",
        "# We return to our internal states\n",
        "# We add an LSTM layer for encoding and decoding\n",
        "decoder_outputs, _, _ = decoder_lstm(decoder_inputs, initial_state=encoder_states)\n",
        "decoder_dense = keras.layers.Dense(num_decoder_tokens, activation=\"softmax\")\n",
        "# Our decoder output layer\n",
        "decoder_outputs = decoder_dense(decoder_outputs)"
      ],
      "metadata": {
        "id": "AFUfLW-hpo1L"
      },
      "execution_count": 66,
      "outputs": []
    },
    {
      "cell_type": "markdown",
      "source": [
        "__TODO: INSERT VISUAL OF DECODER ARCHITECTURE.__"
      ],
      "metadata": {
        "id": "xslK7y8dz-fh"
      }
    },
    {
      "cell_type": "markdown",
      "source": [
        "Finally, we can build our model!"
      ],
      "metadata": {
        "id": "1B8uqcGVq5gV"
      }
    },
    {
      "cell_type": "code",
      "source": [
        "# Define the model that will turn\n",
        "# `encoder_input_data` & `decoder_input_data` into `decoder_target_data`\n",
        "model = keras.Model([encoder_inputs, decoder_inputs], decoder_outputs)"
      ],
      "metadata": {
        "id": "E-yiUN8wq7U0"
      },
      "execution_count": 67,
      "outputs": []
    },
    {
      "cell_type": "markdown",
      "source": [
        "__TODO: INSERT A DIAGRAM OF THE MODEL WE JUST BUILT.__"
      ],
      "metadata": {
        "id": "BfetxfH-yvl9"
      }
    },
    {
      "cell_type": "markdown",
      "source": [
        "# 4. Training the Model"
      ],
      "metadata": {
        "id": "uaN2PjvDs6-Y"
      }
    },
    {
      "cell_type": "markdown",
      "source": [
        "We'll use `fit()` to train our model."
      ],
      "metadata": {
        "id": "DAlaYeZkyHoU"
      }
    },
    {
      "cell_type": "markdown",
      "source": [
        "- **encoder_input_data**: English training sentences\n",
        "- **decoder_input_data**: encoded English sentences\n",
        "- **decoder_target_data**: French sentences\n",
        "- **epochs**: number of times the model will go through the dataset\n",
        "- **batch_size**: number of training samples that go through the model"
      ],
      "metadata": {
        "id": "rbQkaiJwyKyo"
      }
    },
    {
      "cell_type": "markdown",
      "source": [
        "__TODO: INSERT VISUAL OF HOW THE MODEL IS TRAINING.__"
      ],
      "metadata": {
        "id": "B-1zvN0R0NGM"
      }
    },
    {
      "cell_type": "code",
      "source": [
        "# Compile the model\n",
        "\n",
        "model.compile(\n",
        "    optimizer=\"rmsprop\", loss=\"categorical_crossentropy\", metrics=[\"accuracy\"]\n",
        ")\n",
        "\n",
        "# Fit the model on the data & finetune it with validation data\n",
        "model.fit(\n",
        "    [encoder_input_data, decoder_input_data],\n",
        "    decoder_target_data,\n",
        "    batch_size=batch_size,\n",
        "    epochs=epochs,\n",
        "    validation_split=0.2,\n",
        ")\n",
        "# Save model\n",
        "model.save(\"s2s\")"
      ],
      "metadata": {
        "id": "qTlYrCzZthaA"
      },
      "execution_count": null,
      "outputs": []
    },
    {
      "cell_type": "code",
      "source": [
        ""
      ],
      "metadata": {
        "id": "5nWZqXSX0Kur"
      },
      "execution_count": null,
      "outputs": []
    }
  ]
}