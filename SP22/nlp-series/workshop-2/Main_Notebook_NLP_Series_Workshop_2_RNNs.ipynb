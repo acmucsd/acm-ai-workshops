{
  "nbformat": 4,
  "nbformat_minor": 0,
  "metadata": {
    "colab": {
      "name": "Main Notebook: NLP Series Workshop 2: RNNs.ipynb",
      "provenance": [],
      "collapsed_sections": []
    },
    "kernelspec": {
      "name": "python3",
      "display_name": "Python 3"
    },
    "language_info": {
      "name": "python"
    },
    "accelerator": "GPU"
  },
  "cells": [
    {
      "cell_type": "markdown",
      "source": [
        "# Main Notebook: NLP Series Workshop 2: Diving Deeper into Sentiment Analysis Techniques"
      ],
      "metadata": {
        "id": "SsBNwfyb1K6S"
      }
    },
    {
      "cell_type": "markdown",
      "source": [
        "TODO:\n",
        "- include graphic for pipeline\n",
        "- visuals for everything\n",
        "- finish the entire noteboook\n",
        "- remove dropout, embedding (all the complicated stuff)\n",
        "- better explanations\n",
        "  - Vincent: I explained everything up to the modeling part.\n",
        "- need an evaluation section"
      ],
      "metadata": {
        "id": "8ci3zdSHCfHu"
      }
    },
    {
      "cell_type": "markdown",
      "source": [
        "Credit to this wonderful notebook: https://www.kaggle.com/code/dorgavra/emotion-classification-nlp/notebook"
      ],
      "metadata": {
        "id": "vWQxlVkTB13R"
      }
    },
    {
      "cell_type": "markdown",
      "source": [
        "<span style=\"color:red\">__DISCLAIMER__</span> : This dataset contains hateful speech and explicit content. \n",
        "\n",
        "Conventions used:\n",
        "\n",
        "❗ - Required <br>\n",
        "❓ - Question <br>\n",
        "🛑 - Stop and Think"
      ],
      "metadata": {
        "id": "NEkiowniMv54"
      }
    },
    {
      "cell_type": "markdown",
      "source": [
        "# 1. Setup"
      ],
      "metadata": {
        "id": "-bQwj_cIK_nO"
      }
    },
    {
      "cell_type": "markdown",
      "source": [
        "The dataset we'll use can be found here: https://www.kaggle.com/datasets/praveengovi/emotions-dataset-for-nlp"
      ],
      "metadata": {
        "id": "xpeHHwzh2k1D"
      }
    },
    {
      "cell_type": "code",
      "source": [
        "import gdown\n",
        "!mkdir emotion-sentiment\n",
        "%cd emotion-sentiment\n",
        "gdown.download('https://drive.google.com/uc?export=download&id=1qkkiX1X5udWEUxbBBLKPH-xMP_upG0QX')\n",
        "!unzip -q archive.zip\n",
        "!rm archive.zip"
      ],
      "metadata": {
        "colab": {
          "base_uri": "https://localhost:8080/"
        },
        "id": "QCSWL4IjNRg6",
        "outputId": "addb8c7f-6bf9-4a3b-ad78-d7082efce641"
      },
      "execution_count": null,
      "outputs": [
        {
          "output_type": "stream",
          "name": "stdout",
          "text": [
            "/content/emotion-sentiment\n"
          ]
        },
        {
          "output_type": "stream",
          "name": "stderr",
          "text": [
            "Downloading...\n",
            "From: https://drive.google.com/uc?export=download&id=1qkkiX1X5udWEUxbBBLKPH-xMP_upG0QX\n",
            "To: /content/emotion-sentiment/archive.zip\n",
            "100%|██████████| 738k/738k [00:00<00:00, 78.2MB/s]\n"
          ]
        }
      ]
    },
    {
      "cell_type": "markdown",
      "source": [
        "🛑: Stop and take a look at the data (txt files)! \n",
        "\n",
        "Don't know how to check the data?\n",
        "\n",
        "Click on that small folder icon on the left.\n",
        "Then click the `emotion-sentiment` folder and just double-click any of the text files!"
      ],
      "metadata": {
        "id": "zMPeM6x5E2S3"
      }
    },
    {
      "cell_type": "markdown",
      "source": [
        "🛑: What do you notice?\n",
        "\n",
        "It's just a bunch of sentences! Whoever published this Kaggle dataset split the data into 3 parts: train (for training our model), validation (for checking how well our model performs), and test (for seeing how our model performs on wild data). Each `.txt` file has a bunch of sentences. Specifically, each row in the `.txt` file is a sentence. "
      ],
      "metadata": {
        "id": "Xde5WbavFeMJ"
      }
    },
    {
      "cell_type": "code",
      "source": [
        "import re\n",
        "import nltk\n",
        "import numpy as np\n",
        "import pandas as pd\n",
        "\n",
        "from nltk.stem import PorterStemmer\n",
        "from sklearn.preprocessing import LabelEncoder\n",
        "from sklearn.model_selection import train_test_split\n",
        "\n",
        "import tensorflow as tf\n",
        "import keras.backend as K\n",
        "from tensorflow import keras\n",
        "from tensorflow.keras.utils import to_categorical\n",
        "from tensorflow.keras.preprocessing.text import one_hot\n",
        "from keras.preprocessing.text import Tokenizer\n",
        "from keras.preprocessing.sequence import pad_sequences\n",
        "from keras import Sequential\n",
        "from keras.layers import Dense, SimpleRNN, Embedding, Flatten, Dropout"
      ],
      "metadata": {
        "id": "9W7xI4gRPEvp"
      },
      "execution_count": null,
      "outputs": []
    },
    {
      "cell_type": "code",
      "source": [
        "test_data = pd.read_csv(\"/content/emotion-sentiment/test.txt\", header=None, sep=\";\", names=[\"Comment\",\"Emotion\"], encoding=\"utf-8\")\n",
        "train_data = pd.read_csv(\"/content/emotion-sentiment/train.txt\", header=None, sep=\";\", names=[\"Comment\",\"Emotion\"], encoding=\"utf-8\")\n",
        "validation_data = pd.read_csv(\"/content/emotion-sentiment/val.txt\", header=None, sep=\";\", names=[\"Comment\",\"Emotion\"], encoding=\"utf-8\")\n",
        "\n",
        "print(\"Train : \", train_data.shape)\n",
        "print(\"Test : \", test_data.shape)\n",
        "print(\"Validation : \", validation_data.shape)"
      ],
      "metadata": {
        "id": "My9C4SiTZY36",
        "colab": {
          "base_uri": "https://localhost:8080/"
        },
        "outputId": "01500ca3-6f29-4100-bae2-a229d8ab8243"
      },
      "execution_count": null,
      "outputs": [
        {
          "output_type": "stream",
          "name": "stdout",
          "text": [
            "Train :  (16000, 2)\n",
            "Test :  (2000, 2)\n",
            "Validation :  (2000, 2)\n"
          ]
        }
      ]
    },
    {
      "cell_type": "markdown",
      "source": [
        "Here we download our data, import the relevant libraries, and load in the `.csv` files again.\n",
        "\n",
        "Let's take a quick look at the train data again just for a refresher!"
      ],
      "metadata": {
        "id": "Z5VELqB2QCli"
      }
    },
    {
      "cell_type": "code",
      "source": [
        "train_data"
      ],
      "metadata": {
        "colab": {
          "base_uri": "https://localhost:8080/",
          "height": 424
        },
        "id": "H_6x39pdfFSV",
        "outputId": "3a01230a-62dc-412a-db62-87808ed44c98"
      },
      "execution_count": null,
      "outputs": [
        {
          "output_type": "execute_result",
          "data": {
            "text/plain": [
              "                                                 Comment  Emotion\n",
              "0                                i didnt feel humiliated  sadness\n",
              "1      i can go from feeling so hopeless to so damned...  sadness\n",
              "2       im grabbing a minute to post i feel greedy wrong    anger\n",
              "3      i am ever feeling nostalgic about the fireplac...     love\n",
              "4                                   i am feeling grouchy    anger\n",
              "...                                                  ...      ...\n",
              "15995  i just had a very brief time in the beanbag an...  sadness\n",
              "15996  i am now turning and i feel pathetic that i am...  sadness\n",
              "15997                     i feel strong and good overall      joy\n",
              "15998  i feel like this was such a rude comment and i...    anger\n",
              "15999  i know a lot but i feel so stupid because i ca...  sadness\n",
              "\n",
              "[16000 rows x 2 columns]"
            ],
            "text/html": [
              "\n",
              "  <div id=\"df-ca24e406-341f-4688-b839-b0a2f5224d94\">\n",
              "    <div class=\"colab-df-container\">\n",
              "      <div>\n",
              "<style scoped>\n",
              "    .dataframe tbody tr th:only-of-type {\n",
              "        vertical-align: middle;\n",
              "    }\n",
              "\n",
              "    .dataframe tbody tr th {\n",
              "        vertical-align: top;\n",
              "    }\n",
              "\n",
              "    .dataframe thead th {\n",
              "        text-align: right;\n",
              "    }\n",
              "</style>\n",
              "<table border=\"1\" class=\"dataframe\">\n",
              "  <thead>\n",
              "    <tr style=\"text-align: right;\">\n",
              "      <th></th>\n",
              "      <th>Comment</th>\n",
              "      <th>Emotion</th>\n",
              "    </tr>\n",
              "  </thead>\n",
              "  <tbody>\n",
              "    <tr>\n",
              "      <th>0</th>\n",
              "      <td>i didnt feel humiliated</td>\n",
              "      <td>sadness</td>\n",
              "    </tr>\n",
              "    <tr>\n",
              "      <th>1</th>\n",
              "      <td>i can go from feeling so hopeless to so damned...</td>\n",
              "      <td>sadness</td>\n",
              "    </tr>\n",
              "    <tr>\n",
              "      <th>2</th>\n",
              "      <td>im grabbing a minute to post i feel greedy wrong</td>\n",
              "      <td>anger</td>\n",
              "    </tr>\n",
              "    <tr>\n",
              "      <th>3</th>\n",
              "      <td>i am ever feeling nostalgic about the fireplac...</td>\n",
              "      <td>love</td>\n",
              "    </tr>\n",
              "    <tr>\n",
              "      <th>4</th>\n",
              "      <td>i am feeling grouchy</td>\n",
              "      <td>anger</td>\n",
              "    </tr>\n",
              "    <tr>\n",
              "      <th>...</th>\n",
              "      <td>...</td>\n",
              "      <td>...</td>\n",
              "    </tr>\n",
              "    <tr>\n",
              "      <th>15995</th>\n",
              "      <td>i just had a very brief time in the beanbag an...</td>\n",
              "      <td>sadness</td>\n",
              "    </tr>\n",
              "    <tr>\n",
              "      <th>15996</th>\n",
              "      <td>i am now turning and i feel pathetic that i am...</td>\n",
              "      <td>sadness</td>\n",
              "    </tr>\n",
              "    <tr>\n",
              "      <th>15997</th>\n",
              "      <td>i feel strong and good overall</td>\n",
              "      <td>joy</td>\n",
              "    </tr>\n",
              "    <tr>\n",
              "      <th>15998</th>\n",
              "      <td>i feel like this was such a rude comment and i...</td>\n",
              "      <td>anger</td>\n",
              "    </tr>\n",
              "    <tr>\n",
              "      <th>15999</th>\n",
              "      <td>i know a lot but i feel so stupid because i ca...</td>\n",
              "      <td>sadness</td>\n",
              "    </tr>\n",
              "  </tbody>\n",
              "</table>\n",
              "<p>16000 rows × 2 columns</p>\n",
              "</div>\n",
              "      <button class=\"colab-df-convert\" onclick=\"convertToInteractive('df-ca24e406-341f-4688-b839-b0a2f5224d94')\"\n",
              "              title=\"Convert this dataframe to an interactive table.\"\n",
              "              style=\"display:none;\">\n",
              "        \n",
              "  <svg xmlns=\"http://www.w3.org/2000/svg\" height=\"24px\"viewBox=\"0 0 24 24\"\n",
              "       width=\"24px\">\n",
              "    <path d=\"M0 0h24v24H0V0z\" fill=\"none\"/>\n",
              "    <path d=\"M18.56 5.44l.94 2.06.94-2.06 2.06-.94-2.06-.94-.94-2.06-.94 2.06-2.06.94zm-11 1L8.5 8.5l.94-2.06 2.06-.94-2.06-.94L8.5 2.5l-.94 2.06-2.06.94zm10 10l.94 2.06.94-2.06 2.06-.94-2.06-.94-.94-2.06-.94 2.06-2.06.94z\"/><path d=\"M17.41 7.96l-1.37-1.37c-.4-.4-.92-.59-1.43-.59-.52 0-1.04.2-1.43.59L10.3 9.45l-7.72 7.72c-.78.78-.78 2.05 0 2.83L4 21.41c.39.39.9.59 1.41.59.51 0 1.02-.2 1.41-.59l7.78-7.78 2.81-2.81c.8-.78.8-2.07 0-2.86zM5.41 20L4 18.59l7.72-7.72 1.47 1.35L5.41 20z\"/>\n",
              "  </svg>\n",
              "      </button>\n",
              "      \n",
              "  <style>\n",
              "    .colab-df-container {\n",
              "      display:flex;\n",
              "      flex-wrap:wrap;\n",
              "      gap: 12px;\n",
              "    }\n",
              "\n",
              "    .colab-df-convert {\n",
              "      background-color: #E8F0FE;\n",
              "      border: none;\n",
              "      border-radius: 50%;\n",
              "      cursor: pointer;\n",
              "      display: none;\n",
              "      fill: #1967D2;\n",
              "      height: 32px;\n",
              "      padding: 0 0 0 0;\n",
              "      width: 32px;\n",
              "    }\n",
              "\n",
              "    .colab-df-convert:hover {\n",
              "      background-color: #E2EBFA;\n",
              "      box-shadow: 0px 1px 2px rgba(60, 64, 67, 0.3), 0px 1px 3px 1px rgba(60, 64, 67, 0.15);\n",
              "      fill: #174EA6;\n",
              "    }\n",
              "\n",
              "    [theme=dark] .colab-df-convert {\n",
              "      background-color: #3B4455;\n",
              "      fill: #D2E3FC;\n",
              "    }\n",
              "\n",
              "    [theme=dark] .colab-df-convert:hover {\n",
              "      background-color: #434B5C;\n",
              "      box-shadow: 0px 1px 3px 1px rgba(0, 0, 0, 0.15);\n",
              "      filter: drop-shadow(0px 1px 2px rgba(0, 0, 0, 0.3));\n",
              "      fill: #FFFFFF;\n",
              "    }\n",
              "  </style>\n",
              "\n",
              "      <script>\n",
              "        const buttonEl =\n",
              "          document.querySelector('#df-ca24e406-341f-4688-b839-b0a2f5224d94 button.colab-df-convert');\n",
              "        buttonEl.style.display =\n",
              "          google.colab.kernel.accessAllowed ? 'block' : 'none';\n",
              "\n",
              "        async function convertToInteractive(key) {\n",
              "          const element = document.querySelector('#df-ca24e406-341f-4688-b839-b0a2f5224d94');\n",
              "          const dataTable =\n",
              "            await google.colab.kernel.invokeFunction('convertToInteractive',\n",
              "                                                     [key], {});\n",
              "          if (!dataTable) return;\n",
              "\n",
              "          const docLinkHtml = 'Like what you see? Visit the ' +\n",
              "            '<a target=\"_blank\" href=https://colab.research.google.com/notebooks/data_table.ipynb>data table notebook</a>'\n",
              "            + ' to learn more about interactive tables.';\n",
              "          element.innerHTML = '';\n",
              "          dataTable['output_type'] = 'display_data';\n",
              "          await google.colab.output.renderOutput(dataTable, element);\n",
              "          const docLink = document.createElement('div');\n",
              "          docLink.innerHTML = docLinkHtml;\n",
              "          element.appendChild(docLink);\n",
              "        }\n",
              "      </script>\n",
              "    </div>\n",
              "  </div>\n",
              "  "
            ]
          },
          "metadata": {},
          "execution_count": 23
        }
      ]
    },
    {
      "cell_type": "markdown",
      "source": [
        "# Preprocessing"
      ],
      "metadata": {
        "id": "ffrI-qXX3jfa"
      }
    },
    {
      "cell_type": "markdown",
      "source": [
        "Let's get the length of each tweet and put it in the `train_data` table."
      ],
      "metadata": {
        "id": "3Z9Z109wPTSo"
      }
    },
    {
      "cell_type": "code",
      "source": [
        "train_data['length'] = [len(x) for x in train_data['Comment']]"
      ],
      "metadata": {
        "id": "dR7RkcFZOoy5"
      },
      "execution_count": null,
      "outputs": []
    },
    {
      "cell_type": "markdown",
      "source": [
        "🛑: Stop and take a look at the `train_data` table now."
      ],
      "metadata": {
        "id": "EbKJhP3zPY6v"
      }
    },
    {
      "cell_type": "code",
      "source": [
        "lb = LabelEncoder()\n",
        "train_data['Emotion'] = lb.fit_transform(train_data['Emotion'])\n",
        "test_data['Emotion'] = lb.fit_transform(test_data['Emotion'])\n",
        "validation_data['Emotion'] = lb.fit_transform(validation_data['Emotion'])"
      ],
      "metadata": {
        "id": "KupgMKltNEvL"
      },
      "execution_count": null,
      "outputs": []
    },
    {
      "cell_type": "markdown",
      "source": [
        "Let's take a look at the data!\n",
        "\n",
        "What we basically did was map all the emotions into numbers."
      ],
      "metadata": {
        "id": "LUCcnVwYNlhS"
      }
    },
    {
      "cell_type": "code",
      "source": [
        "train_data"
      ],
      "metadata": {
        "colab": {
          "base_uri": "https://localhost:8080/",
          "height": 424
        },
        "id": "lBBDavXYNeFF",
        "outputId": "904f2956-b972-4b60-9a61-30de30cb66dd"
      },
      "execution_count": null,
      "outputs": [
        {
          "output_type": "execute_result",
          "data": {
            "text/plain": [
              "                                                 Comment  Emotion  length\n",
              "0                                i didnt feel humiliated        4      23\n",
              "1      i can go from feeling so hopeless to so damned...        4     108\n",
              "2       im grabbing a minute to post i feel greedy wrong        0      48\n",
              "3      i am ever feeling nostalgic about the fireplac...        3      92\n",
              "4                                   i am feeling grouchy        0      20\n",
              "...                                                  ...      ...     ...\n",
              "15995  i just had a very brief time in the beanbag an...        4     101\n",
              "15996  i am now turning and i feel pathetic that i am...        4     102\n",
              "15997                     i feel strong and good overall        2      30\n",
              "15998  i feel like this was such a rude comment and i...        0      59\n",
              "15999  i know a lot but i feel so stupid because i ca...        4      62\n",
              "\n",
              "[16000 rows x 3 columns]"
            ],
            "text/html": [
              "\n",
              "  <div id=\"df-9fcf77db-bdb4-435e-a6d4-d94831301a64\">\n",
              "    <div class=\"colab-df-container\">\n",
              "      <div>\n",
              "<style scoped>\n",
              "    .dataframe tbody tr th:only-of-type {\n",
              "        vertical-align: middle;\n",
              "    }\n",
              "\n",
              "    .dataframe tbody tr th {\n",
              "        vertical-align: top;\n",
              "    }\n",
              "\n",
              "    .dataframe thead th {\n",
              "        text-align: right;\n",
              "    }\n",
              "</style>\n",
              "<table border=\"1\" class=\"dataframe\">\n",
              "  <thead>\n",
              "    <tr style=\"text-align: right;\">\n",
              "      <th></th>\n",
              "      <th>Comment</th>\n",
              "      <th>Emotion</th>\n",
              "      <th>length</th>\n",
              "    </tr>\n",
              "  </thead>\n",
              "  <tbody>\n",
              "    <tr>\n",
              "      <th>0</th>\n",
              "      <td>i didnt feel humiliated</td>\n",
              "      <td>4</td>\n",
              "      <td>23</td>\n",
              "    </tr>\n",
              "    <tr>\n",
              "      <th>1</th>\n",
              "      <td>i can go from feeling so hopeless to so damned...</td>\n",
              "      <td>4</td>\n",
              "      <td>108</td>\n",
              "    </tr>\n",
              "    <tr>\n",
              "      <th>2</th>\n",
              "      <td>im grabbing a minute to post i feel greedy wrong</td>\n",
              "      <td>0</td>\n",
              "      <td>48</td>\n",
              "    </tr>\n",
              "    <tr>\n",
              "      <th>3</th>\n",
              "      <td>i am ever feeling nostalgic about the fireplac...</td>\n",
              "      <td>3</td>\n",
              "      <td>92</td>\n",
              "    </tr>\n",
              "    <tr>\n",
              "      <th>4</th>\n",
              "      <td>i am feeling grouchy</td>\n",
              "      <td>0</td>\n",
              "      <td>20</td>\n",
              "    </tr>\n",
              "    <tr>\n",
              "      <th>...</th>\n",
              "      <td>...</td>\n",
              "      <td>...</td>\n",
              "      <td>...</td>\n",
              "    </tr>\n",
              "    <tr>\n",
              "      <th>15995</th>\n",
              "      <td>i just had a very brief time in the beanbag an...</td>\n",
              "      <td>4</td>\n",
              "      <td>101</td>\n",
              "    </tr>\n",
              "    <tr>\n",
              "      <th>15996</th>\n",
              "      <td>i am now turning and i feel pathetic that i am...</td>\n",
              "      <td>4</td>\n",
              "      <td>102</td>\n",
              "    </tr>\n",
              "    <tr>\n",
              "      <th>15997</th>\n",
              "      <td>i feel strong and good overall</td>\n",
              "      <td>2</td>\n",
              "      <td>30</td>\n",
              "    </tr>\n",
              "    <tr>\n",
              "      <th>15998</th>\n",
              "      <td>i feel like this was such a rude comment and i...</td>\n",
              "      <td>0</td>\n",
              "      <td>59</td>\n",
              "    </tr>\n",
              "    <tr>\n",
              "      <th>15999</th>\n",
              "      <td>i know a lot but i feel so stupid because i ca...</td>\n",
              "      <td>4</td>\n",
              "      <td>62</td>\n",
              "    </tr>\n",
              "  </tbody>\n",
              "</table>\n",
              "<p>16000 rows × 3 columns</p>\n",
              "</div>\n",
              "      <button class=\"colab-df-convert\" onclick=\"convertToInteractive('df-9fcf77db-bdb4-435e-a6d4-d94831301a64')\"\n",
              "              title=\"Convert this dataframe to an interactive table.\"\n",
              "              style=\"display:none;\">\n",
              "        \n",
              "  <svg xmlns=\"http://www.w3.org/2000/svg\" height=\"24px\"viewBox=\"0 0 24 24\"\n",
              "       width=\"24px\">\n",
              "    <path d=\"M0 0h24v24H0V0z\" fill=\"none\"/>\n",
              "    <path d=\"M18.56 5.44l.94 2.06.94-2.06 2.06-.94-2.06-.94-.94-2.06-.94 2.06-2.06.94zm-11 1L8.5 8.5l.94-2.06 2.06-.94-2.06-.94L8.5 2.5l-.94 2.06-2.06.94zm10 10l.94 2.06.94-2.06 2.06-.94-2.06-.94-.94-2.06-.94 2.06-2.06.94z\"/><path d=\"M17.41 7.96l-1.37-1.37c-.4-.4-.92-.59-1.43-.59-.52 0-1.04.2-1.43.59L10.3 9.45l-7.72 7.72c-.78.78-.78 2.05 0 2.83L4 21.41c.39.39.9.59 1.41.59.51 0 1.02-.2 1.41-.59l7.78-7.78 2.81-2.81c.8-.78.8-2.07 0-2.86zM5.41 20L4 18.59l7.72-7.72 1.47 1.35L5.41 20z\"/>\n",
              "  </svg>\n",
              "      </button>\n",
              "      \n",
              "  <style>\n",
              "    .colab-df-container {\n",
              "      display:flex;\n",
              "      flex-wrap:wrap;\n",
              "      gap: 12px;\n",
              "    }\n",
              "\n",
              "    .colab-df-convert {\n",
              "      background-color: #E8F0FE;\n",
              "      border: none;\n",
              "      border-radius: 50%;\n",
              "      cursor: pointer;\n",
              "      display: none;\n",
              "      fill: #1967D2;\n",
              "      height: 32px;\n",
              "      padding: 0 0 0 0;\n",
              "      width: 32px;\n",
              "    }\n",
              "\n",
              "    .colab-df-convert:hover {\n",
              "      background-color: #E2EBFA;\n",
              "      box-shadow: 0px 1px 2px rgba(60, 64, 67, 0.3), 0px 1px 3px 1px rgba(60, 64, 67, 0.15);\n",
              "      fill: #174EA6;\n",
              "    }\n",
              "\n",
              "    [theme=dark] .colab-df-convert {\n",
              "      background-color: #3B4455;\n",
              "      fill: #D2E3FC;\n",
              "    }\n",
              "\n",
              "    [theme=dark] .colab-df-convert:hover {\n",
              "      background-color: #434B5C;\n",
              "      box-shadow: 0px 1px 3px 1px rgba(0, 0, 0, 0.15);\n",
              "      filter: drop-shadow(0px 1px 2px rgba(0, 0, 0, 0.3));\n",
              "      fill: #FFFFFF;\n",
              "    }\n",
              "  </style>\n",
              "\n",
              "      <script>\n",
              "        const buttonEl =\n",
              "          document.querySelector('#df-9fcf77db-bdb4-435e-a6d4-d94831301a64 button.colab-df-convert');\n",
              "        buttonEl.style.display =\n",
              "          google.colab.kernel.accessAllowed ? 'block' : 'none';\n",
              "\n",
              "        async function convertToInteractive(key) {\n",
              "          const element = document.querySelector('#df-9fcf77db-bdb4-435e-a6d4-d94831301a64');\n",
              "          const dataTable =\n",
              "            await google.colab.kernel.invokeFunction('convertToInteractive',\n",
              "                                                     [key], {});\n",
              "          if (!dataTable) return;\n",
              "\n",
              "          const docLinkHtml = 'Like what you see? Visit the ' +\n",
              "            '<a target=\"_blank\" href=https://colab.research.google.com/notebooks/data_table.ipynb>data table notebook</a>'\n",
              "            + ' to learn more about interactive tables.';\n",
              "          element.innerHTML = '';\n",
              "          dataTable['output_type'] = 'display_data';\n",
              "          await google.colab.output.renderOutput(dataTable, element);\n",
              "          const docLink = document.createElement('div');\n",
              "          docLink.innerHTML = docLinkHtml;\n",
              "          element.appendChild(docLink);\n",
              "        }\n",
              "      </script>\n",
              "    </div>\n",
              "  </div>\n",
              "  "
            ]
          },
          "metadata": {},
          "execution_count": 32
        }
      ]
    },
    {
      "cell_type": "markdown",
      "source": [
        "In English, there are lots of words that we say that don't really mean much (ouch). For training an AI like an RNN, it won't care much about these __stopwords__. So we will use the `nltk` package to get a list of stopwords for later use."
      ],
      "metadata": {
        "id": "5gWCUZ47Os3I"
      }
    },
    {
      "cell_type": "code",
      "source": [
        "nltk.download('stopwords')\n",
        "stopwords = set(nltk.corpus.stopwords.words('english'))"
      ],
      "metadata": {
        "colab": {
          "base_uri": "https://localhost:8080/"
        },
        "id": "QcjZGCAzOa_e",
        "outputId": "e38f4fe6-65f3-429f-f771-2920031eede1"
      },
      "execution_count": null,
      "outputs": [
        {
          "output_type": "stream",
          "name": "stdout",
          "text": [
            "[nltk_data] Downloading package stopwords to /root/nltk_data...\n",
            "[nltk_data]   Unzipping corpora/stopwords.zip.\n"
          ]
        }
      ]
    },
    {
      "cell_type": "markdown",
      "source": [
        "🛑: Take a look at `stopwords`. What is it? What do these words mean?"
      ],
      "metadata": {
        "id": "eTX1v9EQPFxY"
      }
    },
    {
      "cell_type": "code",
      "source": [
        "max_len=train_data['length'].max()\n",
        "print(\"Longest tweet length: \", max_len)"
      ],
      "metadata": {
        "colab": {
          "base_uri": "https://localhost:8080/"
        },
        "id": "7zkqQE4iOsYM",
        "outputId": "a4a2b33c-58f0-47dc-e852-93caa220f649"
      },
      "execution_count": null,
      "outputs": [
        {
          "output_type": "stream",
          "name": "stdout",
          "text": [
            "Longest tweet length:  300\n"
          ]
        }
      ]
    },
    {
      "cell_type": "code",
      "source": [
        "vocab_size = 11000  # We decided on 11000 for how many words we will have in our vocabulary."
      ],
      "metadata": {
        "id": "u7i-Hg1OPn56"
      },
      "execution_count": null,
      "outputs": []
    },
    {
      "cell_type": "markdown",
      "source": [
        "This function is really complex. We don't cover every single little detail. But basically, this dataset will go through every single tweet and \"clean\" the tweet. \n",
        "\n",
        "🛑: What do you think \"cleaning\" the tweet mean? \n",
        "\n",
        "It means removing special characters and converting everything to lowercase. In the end, we are just trying to convert the data (both the tweets and the labels) into a format acceptable for training the model. This is the essence of __preprocessing__."
      ],
      "metadata": {
        "id": "wBFnGbHgQlhd"
      }
    },
    {
      "cell_type": "code",
      "source": [
        "def text_cleaning(df, column):\n",
        "    \"\"\"Removing unrelevent chars, Stemming and padding\"\"\"\n",
        "    stemmer = PorterStemmer()\n",
        "    corpus = []\n",
        "    \n",
        "    for text in df[column]:\n",
        "        text = re.sub(\"[^a-zA-Z]\", \" \", text)\n",
        "        text = text.lower()\n",
        "        text = text.split()\n",
        "        text = [stemmer.stem(word) for word in text if word not in stopwords]\n",
        "        text = \" \".join(text)\n",
        "        corpus.append(text)\n",
        "    one_hot_word = [one_hot(input_text=word, n=vocab_size) for word in corpus]\n",
        "    pad = pad_sequences(sequences=one_hot_word,maxlen=max_len,padding='pre')\n",
        "    print(pad.shape)\n",
        "    return pad"
      ],
      "metadata": {
        "id": "Z9fCUx5aP9e_"
      },
      "execution_count": null,
      "outputs": []
    },
    {
      "cell_type": "markdown",
      "source": [
        "Here we run the above function on all the tweets in train, test, and val."
      ],
      "metadata": {
        "id": "oGqvqoKMTCjW"
      }
    },
    {
      "cell_type": "code",
      "source": [
        "x_train = text_cleaning(train_data, \"Comment\")\n",
        "x_test = text_cleaning(test_data, \"Comment\")\n",
        "x_val = text_cleaning(validation_data, \"Comment\")"
      ],
      "metadata": {
        "colab": {
          "base_uri": "https://localhost:8080/"
        },
        "id": "Y0kxD0RQRYdo",
        "outputId": "1a78bc96-7d53-4fe3-879f-7ea53edde25a"
      },
      "execution_count": null,
      "outputs": [
        {
          "output_type": "stream",
          "name": "stdout",
          "text": [
            "(16000, 300)\n",
            "(2000, 300)\n",
            "(2000, 300)\n"
          ]
        }
      ]
    },
    {
      "cell_type": "markdown",
      "source": [
        "Notice how our x_train is just a matrix now. Each row is a tweet. Each row (a vector) has 300 numbers in it: one number for each word in the tweet. Our `x_train` has 16000 tweets, `x_test` and `x_val` with 2000 tweets each.\n",
        "\n",
        "🛑: How is it that all tweets are the same length? \n",
        "\n",
        "Our above function basically chose a length (300 in this case), and padded all tweets shorter than 300 words (and cut off all tweets greater than 300 words). The same goes for the `x_val` and `x_test`."
      ],
      "metadata": {
        "id": "iXlaTIj2TTmU"
      }
    },
    {
      "cell_type": "code",
      "source": [
        "x_train"
      ],
      "metadata": {
        "colab": {
          "base_uri": "https://localhost:8080/"
        },
        "id": "hnNaclinTHl3",
        "outputId": "d28a09ba-9b33-4246-9281-cca4b14b9a48"
      },
      "execution_count": null,
      "outputs": [
        {
          "output_type": "execute_result",
          "data": {
            "text/plain": [
              "array([[    0,     0,     0, ...,  8862, 10669,  9104],\n",
              "       [    0,     0,     0, ...,  4452,  7059,  1579],\n",
              "       [    0,     0,     0, ..., 10669,   681,  3611],\n",
              "       ...,\n",
              "       [    0,     0,     0, ...,  9396,  9049,  5322],\n",
              "       [    0,     0,     0, ...,  1398,  1738,  9796],\n",
              "       [    0,     0,     0, ..., 10669,  5424,  6161]], dtype=int32)"
            ]
          },
          "metadata": {},
          "execution_count": 48
        }
      ]
    },
    {
      "cell_type": "code",
      "source": [
        "y_train = train_data[\"Emotion\"]\n",
        "y_test = test_data[\"Emotion\"]\n",
        "y_val = validation_data[\"Emotion\"]"
      ],
      "metadata": {
        "id": "t5FLnPkgRdmB"
      },
      "execution_count": null,
      "outputs": []
    },
    {
      "cell_type": "code",
      "source": [
        "y_train = to_categorical(y_train)\n",
        "y_test = to_categorical(y_test)\n",
        "y_val = to_categorical(y_val)"
      ],
      "metadata": {
        "id": "2wWacIkbRnC0"
      },
      "execution_count": null,
      "outputs": []
    },
    {
      "cell_type": "markdown",
      "source": [
        "Our labels for train, test, val are in another format. Notice again our train has 16000 labels (one label for each tweet), test and val have 2000 labels each. \n",
        "\n",
        "What's special is that each label corresponds to 6 values. So the label for the first train tweet is a vector of 6 numbers. "
      ],
      "metadata": {
        "id": "VbA-eGe_UDg5"
      }
    },
    {
      "cell_type": "code",
      "source": [
        "print(y_train.shape)\n",
        "print(y_test.shape)\n",
        "print(y_val.shape)"
      ],
      "metadata": {
        "colab": {
          "base_uri": "https://localhost:8080/"
        },
        "id": "Z7kIuUqqT8at",
        "outputId": "7724e73b-7536-4b74-c587-154e2b64f9f1"
      },
      "execution_count": null,
      "outputs": [
        {
          "output_type": "stream",
          "name": "stdout",
          "text": [
            "(16000, 6)\n",
            "(2000, 6)\n",
            "(2000, 6)\n"
          ]
        }
      ]
    },
    {
      "cell_type": "markdown",
      "source": [
        "Below you can take a look at what `y_train` may look like (`y_test` and `y_val` are the same with just different number of rows).\n",
        "\n",
        "We did something called __one-hot encoding__. Simply put, we have 6 different emotions that all the tweets in the dataset fall into. For the first row in `y_train`, we have a 1 in the 4th index (counting from 0) and zeros everywhere else. So that means the first tweet in the train dataset corresponds to whatever emotion is in the 4th index. "
      ],
      "metadata": {
        "id": "jLXjuvggUrgh"
      }
    },
    {
      "cell_type": "code",
      "source": [
        "y_train"
      ],
      "metadata": {
        "colab": {
          "base_uri": "https://localhost:8080/"
        },
        "id": "bI03_5KhUqPm",
        "outputId": "a360959e-b9ef-4774-e569-9e9f61a953cf"
      },
      "execution_count": null,
      "outputs": [
        {
          "output_type": "execute_result",
          "data": {
            "text/plain": [
              "array([[0., 0., 0., 0., 1., 0.],\n",
              "       [0., 0., 0., 0., 1., 0.],\n",
              "       [1., 0., 0., 0., 0., 0.],\n",
              "       ...,\n",
              "       [0., 0., 1., 0., 0., 0.],\n",
              "       [1., 0., 0., 0., 0., 0.],\n",
              "       [0., 0., 0., 0., 1., 0.]], dtype=float32)"
            ]
          },
          "metadata": {},
          "execution_count": 51
        }
      ]
    },
    {
      "cell_type": "markdown",
      "source": [
        "### Why are we using RNNs?\n",
        "RNNs are advantageous in NLP because they are able to recognize a sequence of words rather than just the individual words in the tweet.\n",
        " \n",
        "i.e. We can use an RNN model to understand sentences in the tweets!\n",
        "\n",
        "RNNs deliver a better accuracy than MLP because they consider the current input and also what they have learned from the inputs they received previously."
      ],
      "metadata": {
        "id": "gansbI92dtVT"
      }
    },
    {
      "cell_type": "markdown",
      "source": [
        "# Modeling"
      ],
      "metadata": {
        "id": "x2RQXc0DWeRI"
      }
    },
    {
      "cell_type": "markdown",
      "source": [
        "## ❓What is an RNN?\n",
        "\n",
        "A recurrent neural network (RNN) processes sequence input by iterating through the elements. RNNs pass the outputs from one timestep to their input on the next timestep."
      ],
      "metadata": {
        "id": "nbYsiP4xfIea"
      }
    },
    {
      "cell_type": "markdown",
      "source": [
        "The following code creates the model and adds layers to it."
      ],
      "metadata": {
        "id": "9Gl7zaIsi3De"
      }
    },
    {
      "cell_type": "code",
      "source": [
        "model = Sequential()\n",
        "model.add(Embedding(input_dim=vocab_size, output_dim=150, input_length=300))\n",
        "model.add(Dropout(0.2))\n",
        "model.add(SimpleRNN(128))\n",
        "model.add(Dropout(0.2))\n",
        "model.add(Dense(64,activation='sigmoid'))\n",
        "model.add(Dropout(0.2))\n",
        "model.add(Dense(6,activation='softmax'))"
      ],
      "metadata": {
        "id": "xdRuRI-RWfxK"
      },
      "execution_count": null,
      "outputs": []
    },
    {
      "cell_type": "markdown",
      "source": [
        "❓ What does the dropout layer do?"
      ],
      "metadata": {
        "id": "pYJuh1BykKun"
      }
    },
    {
      "cell_type": "markdown",
      "source": [
        "# Training"
      ],
      "metadata": {
        "id": "F75-fTaDZYex"
      }
    },
    {
      "cell_type": "markdown",
      "source": [
        "Now we will train the model."
      ],
      "metadata": {
        "id": "SBAUyeJEZEUh"
      }
    },
    {
      "cell_type": "code",
      "source": [
        "hist = model.fit(x_train,y_train,epochs=10,batch_size=64,\n",
        "                 validation_data=(x_val,y_val), verbose=1)"
      ],
      "metadata": {
        "id": "k8mKzvtTW2fB"
      },
      "execution_count": null,
      "outputs": []
    },
    {
      "cell_type": "code",
      "source": [
        "model.evaluate(x_val,y_val,verbose=1)"
      ],
      "metadata": {
        "colab": {
          "base_uri": "https://localhost:8080/"
        },
        "id": "g3WJFN4cZHll",
        "outputId": "8043fa2f-f00c-4416-8fed-40230c4ab2cb"
      },
      "execution_count": null,
      "outputs": [
        {
          "output_type": "stream",
          "name": "stdout",
          "text": [
            "63/63 [==============================] - 3s 46ms/step - loss: 0.5504 - accuracy: 0.8440\n"
          ]
        },
        {
          "output_type": "execute_result",
          "data": {
            "text/plain": [
              "[0.550441324710846, 0.843999981880188]"
            ]
          },
          "metadata": {},
          "execution_count": 56
        }
      ]
    },
    {
      "cell_type": "code",
      "source": [
        "model.evaluate(x_test,y_test,verbose=1)"
      ],
      "metadata": {
        "colab": {
          "base_uri": "https://localhost:8080/"
        },
        "id": "KDW63SfTZJ5g",
        "outputId": "b314b675-479f-4e09-bdfc-de54ebbef682"
      },
      "execution_count": null,
      "outputs": [
        {
          "output_type": "stream",
          "name": "stdout",
          "text": [
            "63/63 [==============================] - 3s 51ms/step - loss: 0.5514 - accuracy: 0.8330\n"
          ]
        },
        {
          "output_type": "execute_result",
          "data": {
            "text/plain": [
              "[0.5513563752174377, 0.8330000042915344]"
            ]
          },
          "metadata": {},
          "execution_count": 57
        }
      ]
    },
    {
      "cell_type": "markdown",
      "source": [
        "Looks like our model is 84% accurate on the validation data and 83% accurate on the test data."
      ],
      "metadata": {
        "id": "8e-lUKofZPsN"
      }
    },
    {
      "cell_type": "code",
      "source": [
        ""
      ],
      "metadata": {
        "id": "Yx7gFek4M6dv"
      },
      "execution_count": null,
      "outputs": []
    },
    {
      "cell_type": "markdown",
      "source": [
        "# Evaluation"
      ],
      "metadata": {
        "id": "kScclWtJjyru"
      }
    },
    {
      "cell_type": "markdown",
      "source": [
        "How did the RNN model perform compared to how a MLP Classifier would perform?"
      ],
      "metadata": {
        "id": "0u9XeUYnjyrv"
      }
    }
  ]
}