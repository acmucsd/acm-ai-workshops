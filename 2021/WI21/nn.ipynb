{
 "cells": [
  {
   "cell_type": "markdown",
   "metadata": {},
   "source": [
    "# Neural Network"
   ]
  },
  {
   "cell_type": "code",
   "execution_count": 50,
   "metadata": {},
   "outputs": [],
   "source": [
    "from keras.models import Sequential\n",
    "from keras.layers import Dense, Flatten\n",
    "from keras.layers import BatchNormalization as BatchNorm\n",
    "from keras.utils import np_utils\n",
    "from keras.callbacks import ModelCheckpoint\n",
    "import random\n",
    "import tensorflow as tf"
   ]
  },
  {
   "cell_type": "code",
   "execution_count": 48,
   "metadata": {},
   "outputs": [
    {
     "name": "stdout",
     "output_type": "stream",
     "text": [
      "(60000, 28, 28)\n"
     ]
    }
   ],
   "source": [
    "(x_train, y_train), (x_test, y_test) = tf.keras.datasets.mnist.load_data(path=\"mnist.npz\")\n",
    "print(x_train.shape)"
   ]
  },
  {
   "cell_type": "code",
   "execution_count": 49,
   "metadata": {},
   "outputs": [
    {
     "name": "stdout",
     "output_type": "stream",
     "text": [
      "(42000, 28, 28) (18000, 28, 28)\n"
     ]
    }
   ],
   "source": [
    "# train, validation split (70%, 30%)\n",
    "x_train, x_val = x_train[0:x_train.shape[0]*70//100], x_train[x_train.shape[0]*70//100:]\n",
    "y_train, y_val = y_train[0:y_train.shape[0]*70//100], y_train[y_train.shape[0]*70//100:]\n",
    "# Some other simple things you can do - Shuffle, Normalize. \n",
    "# Other advanced things you can do to preprocess the data - PCA, Z-score.\n",
    "# What other optimizations can you think of? \n",
    "print(x_train.shape, x_val.shape)"
   ]
  },
  {
   "cell_type": "code",
   "execution_count": 58,
   "metadata": {},
   "outputs": [],
   "source": [
    "# https://keras.io/api/layers/\n",
    "# Keras offers an API for a lot of layers with multiple optional parameters to tune the network.\n",
    "def create_network(network_input):\n",
    "    model = Sequential()\n",
    "    model.add(Flatten()) # Convert [28,28] -> [784,]\n",
    "    model.add(Dense(25)) # [784,] -> [25,]\n",
    "    model.add(Activation('relu'))\n",
    "    model.add(Dense(10)) # [25,] -> [10,] FCC\n",
    "    model.add(Activation('softmax'))\n",
    "    \n",
    "    #optimizer and loss.\n",
    "    model.compile(optimizer='adam', loss=tf.keras.losses.SparseCategoricalCrossentropy(from_logits=True))\n",
    "    return model\n"
   ]
  },
  {
   "cell_type": "code",
   "execution_count": 60,
   "metadata": {},
   "outputs": [
    {
     "name": "stdout",
     "output_type": "stream",
     "text": [
      "Epoch 1/5\n",
      "5250/5250 [==============================] - 3s 538us/step - loss: 3.6693\n",
      "Epoch 2/5\n",
      "5250/5250 [==============================] - 3s 534us/step - loss: 0.9733\n",
      "Epoch 3/5\n",
      "5250/5250 [==============================] - 3s 543us/step - loss: 0.7850\n",
      "Epoch 4/5\n",
      "5250/5250 [==============================] - 3s 537us/step - loss: 0.6917\n",
      "Epoch 5/5\n",
      "5250/5250 [==============================] - 3s 544us/step - loss: 0.6751\n"
     ]
    },
    {
     "data": {
      "text/plain": [
       "<tensorflow.python.keras.callbacks.History at 0x7fcd40099fd0>"
      ]
     },
     "execution_count": 60,
     "metadata": {},
     "output_type": "execute_result"
    }
   ],
   "source": [
    "model = create_network(x_train)\n",
    "#https://keras.io/api/models/model_training_apis/\n",
    "#without validation\n",
    "model.fit(x=x_train, y=y_train, epochs=5, batch_size = 8)"
   ]
  },
  {
   "cell_type": "code",
   "execution_count": 61,
   "metadata": {},
   "outputs": [
    {
     "name": "stdout",
     "output_type": "stream",
     "text": [
      "Epoch 1/5\n",
      "5250/5250 [==============================] - 4s 682us/step - loss: 4.4919 - val_loss: 1.3123\n",
      "Epoch 2/5\n",
      "5250/5250 [==============================] - 4s 669us/step - loss: 1.2269 - val_loss: 0.9553\n",
      "Epoch 3/5\n",
      "5250/5250 [==============================] - 4s 676us/step - loss: 0.9047 - val_loss: 0.7206\n",
      "Epoch 4/5\n",
      "5250/5250 [==============================] - 3s 666us/step - loss: 0.7218 - val_loss: 0.7201\n",
      "Epoch 5/5\n",
      "5250/5250 [==============================] - 4s 673us/step - loss: 0.6267 - val_loss: 0.6180\n"
     ]
    },
    {
     "data": {
      "text/plain": [
       "<tensorflow.python.keras.callbacks.History at 0x7fcd307d9070>"
      ]
     },
     "execution_count": 61,
     "metadata": {},
     "output_type": "execute_result"
    }
   ],
   "source": [
    "model = create_network(x_train)\n",
    "#with validation\n",
    "model.fit(x=x_train, y=y_train, epochs=5, batch_size = 8, validation_data=(x_val, y_val))"
   ]
  },
  {
   "cell_type": "code",
   "execution_count": null,
   "metadata": {},
   "outputs": [],
   "source": []
  }
 ],
 "metadata": {
  "kernelspec": {
   "display_name": "Python 3",
   "language": "python",
   "name": "python3"
  },
  "language_info": {
   "codemirror_mode": {
    "name": "ipython",
    "version": 3
   },
   "file_extension": ".py",
   "mimetype": "text/x-python",
   "name": "python",
   "nbconvert_exporter": "python",
   "pygments_lexer": "ipython3",
   "version": "3.8.5"
  }
 },
 "nbformat": 4,
 "nbformat_minor": 4
}
