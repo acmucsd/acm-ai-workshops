{
 "cells": [
  {
   "cell_type": "markdown",
   "metadata": {},
   "source": [
    "# Conditional GAN"
   ]
  },
  {
   "cell_type": "code",
   "execution_count": null,
   "metadata": {},
   "outputs": [],
   "source": [
    "# Import all the necessary libraries\n",
    "import numpy as np\n",
    "import torch.nn as nn\n",
    "import torch.nn.functional as F\n",
    "import torch\n",
    "import torchvision\n",
    "import matplotlib.pyplot as plt\n",
    "from tqdm import notebook"
   ]
  },
  {
   "cell_type": "code",
   "execution_count": null,
   "metadata": {},
   "outputs": [],
   "source": [
    "class Generator(nn.Module):\n",
    "    def __init__(self, latent_shape, img_shape):\n",
    "        super(Generator, self).__init__()\n",
    "        self.img_shape = img_shape\n",
    "        self.flatten = nn.Flatten()\n",
    "        self.mlp = nn.Sequential(\n",
    "            nn.Linear(np.prod(latent_shape) + 10, 256),\n",
    "            nn.LeakyReLU(0.2),\n",
    "            nn.Linear(256, 512),\n",
    "            nn.LeakyReLU(0.2),\n",
    "            nn.Linear(512, 1024),\n",
    "            nn.LeakyReLU(0.2),\n",
    "            nn.Linear(1024, np.prod(img_shape)),\n",
    "            nn.Tanh()\n",
    "        )\n",
    "    def forward(self, x, label):\n",
    "        batch_size = x.shape[0]\n",
    "        # generator now uses the latent input noise x and a one hot encoded label for conditioning to generate a fake digit\n",
    "        x = self.flatten(x)\n",
    "        x = torch.cat([x, label], dim=1)\n",
    "        # reshape into a image\n",
    "        return self.mlp(x).reshape(batch_size, 1, *self.img_shape)"
   ]
  },
  {
   "cell_type": "code",
   "execution_count": null,
   "metadata": {},
   "outputs": [],
   "source": [
    "class Discriminator(nn.Module):\n",
    "    def __init__(self, img_shape):\n",
    "        super(Discriminator, self).__init__()\n",
    "\n",
    "        self.mlp = nn.Sequential(\n",
    "            nn.Flatten(),\n",
    "            nn.Linear(np.prod(img_shape), 1024),\n",
    "            nn.LeakyReLU(0.2),\n",
    "            nn.Linear(1024, 512),\n",
    "            nn.LeakyReLU(0.2),\n",
    "            nn.Linear(512, 256),\n",
    "            nn.LeakyReLU(0.2),\n",
    "            nn.Linear(256, 1),\n",
    "            nn.Sigmoid()\n",
    "        )\n",
    "    def forward(self, x):\n",
    "        return self.mlp(x)"
   ]
  },
  {
   "cell_type": "code",
   "execution_count": null,
   "metadata": {},
   "outputs": [],
   "source": [
    "# load our data\n",
    "latent_shape = (28, 28)\n",
    "img_shape = (28, 28)\n",
    "batch_size = 64\n",
    "\n",
    "transform = transforms.Compose([\n",
    "    transforms.ToTensor(),\n",
    "    transforms.Normalize(mean=(0.5), std=(0.5))])\n",
    "train_dataset = torchvision.datasets.MNIST(root=\"./data\", train = True, download=True, transform=transform)der(train_dataset, batch_size=batch_size, shuffle=True)"
   ]
  },
  {
   "cell_type": "code",
   "execution_count": null,
   "metadata": {},
   "outputs": [],
   "source": [
    "device = torch.device('cuda' if torch.cuda.is_available() else 'cpu') # for gpu usage if possible\n",
    "\n",
    "generator = Generator(latent_shape, img_shape)\n",
    "discriminator = Discriminator(img_shape)\n",
    "\n",
    "gen_optim = torch.optim.Adam(generator.parameters(), lr=2e-4)\n",
    "disc_optim = torch.optim.Adam(discriminator.parameters(), lr=2e-4)\n",
    "\n",
    "# use gpu if possible\n",
    "generator = generator.to(device)\n",
    "discriminator = discriminator.to(device)"
   ]
  },
  {
   "cell_type": "code",
   "execution_count": null,
   "metadata": {},
   "outputs": [],
   "source": [
    "def train(generator, discriminator, generator_optim: torch.optim, discriminator_optim: torch.optim, epochs=100):\n",
    "    adversarial_loss = torch.nn.BCELoss()\n",
    "    \n",
    "    for epoch in range(1, epochs+1):\n",
    "        print(\"Epoch {}\".format(epoch))\n",
    "        avg_g_loss = 0\n",
    "        avg_d_loss = 0\n",
    "        pbar = notebook.tqdm(train_dataloader, total=len(train_dataloader))\n",
    "        i = 0\n",
    "        for data in pbar:\n",
    "            i += 1\n",
    "            real_images = data[0].to(device)\n",
    "            labels = data[1].to(device)\n",
    "\n",
    "            one_hot_labels = torch.zeros((len(labels), 10)).to(device)\n",
    "            for j in range(len(labels)):\n",
    "                one_hot_labels[j][labels[j]] = 1\n",
    "\n",
    "            ### Train Generator ###\n",
    "            \n",
    "            generator_optim.zero_grad()\n",
    "            \n",
    "            latent_input = torch.randn((len(real_images), 1, *latent_shape)).to(device)\n",
    "\n",
    "            fake_images = generator(latent_input, one_hot_labels)\n",
    "\n",
    "            fake_res = discriminator(fake_images, one_hot_labels)\n",
    "            \n",
    "            generator_loss = adversarial_loss(fake_res, torch.ones_like(fake_res))\n",
    "            generator_loss.backward()\n",
    "            generator_optim.step()\n",
    "            \n",
    "            ### Train Discriminator ###\n",
    "            discriminator_optim.zero_grad()\n",
    "            \n",
    "            real_res = discriminator(real_images)\n",
    "\n",
    "            fake_res = discriminator(fake_images.detach())\n",
    "\n",
    "            discriminator_real_loss = adversarial_loss(real_res, torch.ones_like(real_res))\n",
    "            discriminator_fake_loss = adversarial_loss(fake_res, torch.zeros_like(fake_res))\n",
    "            discriminator_loss = (discriminator_real_loss + discriminator_fake_loss) / 2\n",
    "            discriminator_loss.backward()\n",
    "            discriminator_optim.step()\n",
    "            \n",
    "\n",
    "            avg_g_loss += generator_loss.item()\n",
    "            avg_d_loss += discriminator_loss.item()\n",
    "            pbar.set_postfix({\"G_loss\": generator_loss.item(), \"D_loss\": discriminator_loss.item()})\n",
    "        print(\"Avg G_loss {} - Avg D_loss {}\".format(avg_g_loss / i, avg_d_loss / i))"
   ]
  },
  {
   "cell_type": "code",
   "execution_count": null,
   "metadata": {},
   "outputs": [],
   "source": [
    "# train our generator and discriminator\n",
    "# Note: don't always expect loss to go down simultaneously for both models. They are competing against each other! So sometimes one model \n",
    "# may perform better than the other\n",
    "train(generator=generator, discriminator=discriminator, generator_optim=gen_optim, discriminator_optim=disc_optim)"
   ]
  },
  {
   "cell_type": "code",
   "execution_count": null,
   "metadata": {},
   "outputs": [],
   "source": [
    "# test it out!\n",
    "latent_input = torch.randn((batch_size, 1, *latent_shape))\n",
    "\n",
    "# generate one hot encoded labels\n",
    "labels = torch.zeros((batch_size))\n",
    "one_hot_labels = torch.zeros((batch_size, 10))\n",
    "one_hot_labels[torch.arange(batch_size), labels] = 1\n",
    "\n",
    "test = generator(latent_input.to(device), one_hot_labels)"
   ]
  },
  {
   "cell_type": "code",
   "execution_count": null,
   "metadata": {},
   "outputs": [],
   "source": [
    "k = 0\n",
    "plt.title(\"Generating a fake {} digit\".format(one_hot_labels[k]))\n",
    "plt.imshow(test[k].reshape(28, 28).cpu().detach().numpy())"
   ]
  }
 ],
 "metadata": {
  "kernelspec": {
   "display_name": "Python 3",
   "language": "python",
   "name": "python3"
  },
  "language_info": {
   "codemirror_mode": {
    "name": "ipython",
    "version": 3
   },
   "file_extension": ".py",
   "mimetype": "text/x-python",
   "name": "python",
   "nbconvert_exporter": "python",
   "pygments_lexer": "ipython3",
   "version": "3.8.5"
  }
 },
 "nbformat": 4,
 "nbformat_minor": 2
}
