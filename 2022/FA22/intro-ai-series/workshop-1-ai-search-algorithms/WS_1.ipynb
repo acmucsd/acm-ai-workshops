{
 "cells": [
  {
   "cell_type": "code",
   "execution_count": 1,
   "id": "25405bf6-92f5-45f7-8943-508f5f034221",
   "metadata": {},
   "outputs": [
    {
     "name": "stdout",
     "output_type": "stream",
     "text": [
      "Obtaining file:///Users/stonetao/Desktop/Coding/Projects/ACM/acm-ai-workshops/2022/FA22/intro-ai-series/workshop-1-ai-search-algorithms/gym\n",
      "  Installing build dependencies ... \u001b[?25ldone\n",
      "\u001b[?25h  Checking if build backend supports build_editable ... \u001b[?25ldone\n",
      "\u001b[?25h  Getting requirements to build editable ... \u001b[?25ldone\n",
      "\u001b[?25h  Preparing editable metadata (pyproject.toml) ... \u001b[?25ldone\n",
      "\u001b[?25hRequirement already satisfied: numpy>=1.18.0 in /opt/anaconda3/envs/deeplearning/lib/python3.9/site-packages (from gym==0.26.2) (1.21.3)\n",
      "Requirement already satisfied: importlib-metadata>=4.8.0 in /opt/anaconda3/envs/deeplearning/lib/python3.9/site-packages (from gym==0.26.2) (4.8.1)\n",
      "Requirement already satisfied: gym-notices>=0.0.4 in /opt/anaconda3/envs/deeplearning/lib/python3.9/site-packages (from gym==0.26.2) (0.0.8)\n",
      "Requirement already satisfied: cloudpickle>=1.2.0 in /opt/anaconda3/envs/deeplearning/lib/python3.9/site-packages (from gym==0.26.2) (2.2.0)\n",
      "Requirement already satisfied: zipp>=0.5 in /opt/anaconda3/envs/deeplearning/lib/python3.9/site-packages (from importlib-metadata>=4.8.0->gym==0.26.2) (3.6.0)\n",
      "Building wheels for collected packages: gym\n",
      "  Building editable for gym (pyproject.toml) ... \u001b[?25ldone\n",
      "\u001b[?25h  Created wheel for gym: filename=gym-0.26.2-0.editable-py3-none-any.whl size=4196 sha256=e001a4f3b59157b87e32f9ea6722e7149223c70edb924041b0fafa25b806b2f7\n",
      "  Stored in directory: /private/var/folders/n9/4grjffpn5wd1jpjknw1c79_80000gn/T/pip-ephem-wheel-cache-5ctg025p/wheels/fe/4f/12/bb450f799d5ccff3f26e3c11625ae90e809745d8148a91bf3e\n",
      "Successfully built gym\n",
      "Installing collected packages: gym\n",
      "  Attempting uninstall: gym\n",
      "    Found existing installation: gym 0.26.2\n",
      "    Uninstalling gym-0.26.2:\n",
      "      Successfully uninstalled gym-0.26.2\n",
      "Successfully installed gym-0.26.2\n"
     ]
    }
   ],
   "source": [
    "!pip install -e ./gym"
   ]
  },
  {
   "cell_type": "code",
   "execution_count": 5,
   "id": "dd92934f-288a-4040-91c7-828a6fc49e0e",
   "metadata": {},
   "outputs": [
    {
     "name": "stdout",
     "output_type": "stream",
     "text": [
      "Obtaining file:///Users/stonetao/Desktop/Coding/Projects/ACM/acm-ai-workshops/2022/FA22/intro-ai-series/workshop-1-ai-search-algorithms\n",
      "  Preparing metadata (setup.py) ... \u001b[?25ldone\n",
      "\u001b[?25hInstalling collected packages: workshop1\n",
      "  Running setup.py develop for workshop1\n",
      "Successfully installed workshop1-0.0.1\n"
     ]
    }
   ],
   "source": [
    "!pip install -e ."
   ]
  },
  {
   "cell_type": "code",
   "execution_count": 2,
   "id": "cfff48f7-de48-4118-b7cc-1a90d18e4359",
   "metadata": {},
   "outputs": [],
   "source": [
    "from workshop.search import *\n",
    "from workshop.maps import MAPS\n",
    "import numpy as np\n",
    "import sys"
   ]
  },
  {
   "cell_type": "code",
   "execution_count": 8,
   "id": "ac608e4e-1801-460d-8db1-a10e13aa7de6",
   "metadata": {},
   "outputs": [
    {
     "ename": "AttributeError",
     "evalue": "module 'gym' has no attribute 'make'",
     "output_type": "error",
     "traceback": [
      "\u001b[0;31m---------------------------------------------------------------------------\u001b[0m",
      "\u001b[0;31mAttributeError\u001b[0m                            Traceback (most recent call last)",
      "\u001b[0;32m/var/folders/n9/4grjffpn5wd1jpjknw1c79_80000gn/T/ipykernel_62174/2556161437.py\u001b[0m in \u001b[0;36m<module>\u001b[0;34m\u001b[0m\n\u001b[1;32m      2\u001b[0m \u001b[0msearch\u001b[0m \u001b[0;34m=\u001b[0m \u001b[0mSearch\u001b[0m\u001b[0;34m(\u001b[0m\u001b[0menvironment\u001b[0m\u001b[0;34m=\u001b[0m\u001b[0;34m\"FrozenLake-v1\"\u001b[0m\u001b[0;34m,\u001b[0m \u001b[0mmap_side_length\u001b[0m\u001b[0;34m=\u001b[0m\u001b[0mgame_map\u001b[0m\u001b[0;34m[\u001b[0m\u001b[0;34m'map_side_length'\u001b[0m\u001b[0;34m]\u001b[0m\u001b[0;34m)\u001b[0m\u001b[0;34m\u001b[0m\u001b[0;34m\u001b[0m\u001b[0m\n\u001b[1;32m      3\u001b[0m \u001b[0mRENDER_MODE\u001b[0m\u001b[0;34m=\u001b[0m\u001b[0;34m\"html\"\u001b[0m\u001b[0;34m\u001b[0m\u001b[0;34m\u001b[0m\u001b[0m\n\u001b[0;32m----> 4\u001b[0;31m \u001b[0menv\u001b[0m \u001b[0;34m=\u001b[0m \u001b[0mgym\u001b[0m\u001b[0;34m.\u001b[0m\u001b[0mmake\u001b[0m\u001b[0;34m(\u001b[0m\u001b[0;34m\"FrozenLake-v1\"\u001b[0m\u001b[0;34m,\u001b[0m \u001b[0mdesc\u001b[0m\u001b[0;34m=\u001b[0m\u001b[0mgame_map\u001b[0m\u001b[0;34m[\u001b[0m\u001b[0;34m'desc'\u001b[0m\u001b[0;34m]\u001b[0m\u001b[0;34m,\u001b[0m \u001b[0mrender_mode\u001b[0m\u001b[0;34m=\u001b[0m\u001b[0mRENDER_MODE\u001b[0m\u001b[0;34m,\u001b[0m \u001b[0mis_slippery\u001b[0m\u001b[0;34m=\u001b[0m\u001b[0;32mFalse\u001b[0m\u001b[0;34m)\u001b[0m\u001b[0;34m\u001b[0m\u001b[0;34m\u001b[0m\u001b[0m\n\u001b[0m",
      "\u001b[0;31mAttributeError\u001b[0m: module 'gym' has no attribute 'make'"
     ]
    }
   ],
   "source": [
    "game_map = MAPS[\"hard8x8\"]\n",
    "search = Search(environment=\"FrozenLake-v1\", map_side_length=game_map['map_side_length'])\n",
    "RENDER_MODE=\"html\"\n",
    "env = gym.make(\"FrozenLake-v1\", desc=game_map['desc'], render_mode=RENDER_MODE, is_slippery=False)"
   ]
  },
  {
   "cell_type": "code",
   "execution_count": 7,
   "id": "954ad9c4-ab49-4e10-8ef1-f260809cf2dc",
   "metadata": {},
   "outputs": [
    {
     "ename": "AttributeError",
     "evalue": "module 'gym' has no attribute 'make'",
     "output_type": "error",
     "traceback": [
      "\u001b[0;31m---------------------------------------------------------------------------\u001b[0m",
      "\u001b[0;31mAttributeError\u001b[0m                            Traceback (most recent call last)",
      "\u001b[0;32m/var/folders/n9/4grjffpn5wd1jpjknw1c79_80000gn/T/ipykernel_62174/1975735322.py\u001b[0m in \u001b[0;36m<module>\u001b[0;34m\u001b[0m\n\u001b[0;32m----> 1\u001b[0;31m \u001b[0mgym\u001b[0m\u001b[0;34m.\u001b[0m\u001b[0mmake\u001b[0m\u001b[0;34m\u001b[0m\u001b[0;34m\u001b[0m\u001b[0m\n\u001b[0m",
      "\u001b[0;31mAttributeError\u001b[0m: module 'gym' has no attribute 'make'"
     ]
    }
   ],
   "source": []
  },
  {
   "cell_type": "code",
   "execution_count": null,
   "id": "e5b0d986-09f7-40e7-80c0-bbc7d5ab175b",
   "metadata": {},
   "outputs": [],
   "source": []
  }
 ],
 "metadata": {
  "kernelspec": {
   "display_name": "Python 3.8.8 ('kaggle-envs')",
   "language": "python",
   "name": "python3"
  },
  "language_info": {
   "codemirror_mode": {
    "name": "ipython",
    "version": 3
   },
   "file_extension": ".py",
   "mimetype": "text/x-python",
   "name": "python",
   "nbconvert_exporter": "python",
   "pygments_lexer": "ipython3",
   "version": "3.8.8"
  },
  "vscode": {
   "interpreter": {
    "hash": "64b426e0340449d1005f17cde2ab528b4747b6f35131e6c2ea8f4385d7f17781"
   }
  }
 },
 "nbformat": 4,
 "nbformat_minor": 5
}
