{
  "nbformat": 4,
  "nbformat_minor": 0,
  "metadata": {
    "colab": {
      "provenance": [],
      "collapsed_sections": [
        "6ZXfW0P8k6pf",
        "zbClrcMwm3ft",
        "YIFtc2aZmZIV"
      ]
    },
    "kernelspec": {
      "name": "python3",
      "display_name": "Python 3"
    },
    "language_info": {
      "name": "python"
    },
    "accelerator": "GPU",
    "gpuClass": "standard"
  },
  "cells": [
    {
      "cell_type": "markdown",
      "source": [
        "#*Please **make a copy** before starting!*\n",
        "\n",
        "Check in here: https://members.acmucsd.com/checkin?code=vision"
      ],
      "metadata": {
        "id": "6JMZo92TwqjN"
      }
    },
    {
      "cell_type": "markdown",
      "source": [
        "# Interactive Notebook: Intro to CV Workshop 1: Getting Started with Computer Vision"
      ],
      "metadata": {
        "id": "lrPpS1rpCK-h"
      }
    },
    {
      "cell_type": "markdown",
      "source": [
        "**Note:** This notebook is meant to be used in conjunction with the slides, which give additional information about different topics.\n",
        "\n",
        "Please see the slides available in our GitHub repo here: https://github.com/acmucsd/acm-ai-workshops/tree/main/2023/SP23/intro-cv-series/workshop-1"
      ],
      "metadata": {
        "id": "HZuBnFb3VK7e"
      }
    },
    {
      "cell_type": "markdown",
      "source": [
        "Conventions used:\n",
        "\n",
        "📖 - Defintion <br />\n",
        "❗ - Important <br />\n",
        "❓ - Question"
      ],
      "metadata": {
        "id": "NEkiowniMv54"
      }
    },
    {
      "cell_type": "markdown",
      "source": [
        "## Section 1 - Overview of Computer Vision\n"
      ],
      "metadata": {
        "id": "X_yXZfg-9Fa-"
      }
    },
    {
      "cell_type": "markdown",
      "source": [
        "### 1.1 Introduction of Computer Vision\n"
      ],
      "metadata": {
        "id": "t-rte0n6Jrn5"
      }
    },
    {
      "cell_type": "markdown",
      "source": [
        "Computer Vision is the process of making images or video readable and processable by a model with some output (e.g. finding an apple in an image, detecting threats in cars, etc).\n",
        "\n",
        "Below, we will build some knowledge until we know enough to build a simple classification model."
      ],
      "metadata": {
        "id": "J282apArV7vj"
      }
    },
    {
      "cell_type": "markdown",
      "source": [
        " ### 1.2 The MNIST Dataset"
      ],
      "metadata": {
        "id": "LAy-avyOKTPw"
      }
    },
    {
      "cell_type": "markdown",
      "source": [
        "First, we load our dataset. The MNIST dataset is a popular dataset of black-and-white, handwritten numbers.\n",
        "\n",
        "We wish to classify these numbers from 0-9."
      ],
      "metadata": {
        "id": "UWmpmLCsWUl-"
      }
    },
    {
      "cell_type": "markdown",
      "source": [
        "Import packages:"
      ],
      "metadata": {
        "id": "lTFiPYF5Wdda"
      }
    },
    {
      "cell_type": "code",
      "source": [
        "import torch\n",
        "import torchvision\n",
        "import numpy as np\n",
        "import matplotlib\n",
        "import matplotlib.pyplot as plt\n",
        "import torch.nn as nn\n",
        "import torch.nn.functional as F\n",
        "from torchvision.datasets import MNIST\n",
        "from torchvision.transforms import ToTensor\n",
        "from torchvision.utils import make_grid\n",
        "from torch.utils.data.dataloader import DataLoader\n",
        "from torch.utils.data import random_split\n",
        "%matplotlib inline"
      ],
      "metadata": {
        "id": "73fGQcfhDees"
      },
      "execution_count": null,
      "outputs": []
    },
    {
      "cell_type": "markdown",
      "source": [
        "Download dataset:"
      ],
      "metadata": {
        "id": "KDvNAxOGWfJw"
      }
    },
    {
      "cell_type": "code",
      "source": [
        "# Download training dataset\n",
        "dataset = MNIST(root='data/', download=True)"
      ],
      "metadata": {
        "id": "ALexZsS_D0qq"
      },
      "execution_count": null,
      "outputs": []
    },
    {
      "cell_type": "markdown",
      "source": [
        "Visualize some images from our MNIST dataset:"
      ],
      "metadata": {
        "id": "XeqRt-6ull3m"
      }
    },
    {
      "cell_type": "code",
      "source": [
        "image, label = dataset[0]\n",
        "plt.imshow(image, cmap='gray')\n",
        "print('Label:', label)"
      ],
      "metadata": {
        "colab": {
          "base_uri": "https://localhost:8080/",
          "height": 283
        },
        "id": "QfzfX5sqtfIU",
        "outputId": "7f46f5c6-ad85-4a08-f8fb-1b6cf7de5860"
      },
      "execution_count": null,
      "outputs": [
        {
          "output_type": "stream",
          "name": "stdout",
          "text": [
            "Label: 5\n"
          ]
        },
        {
          "output_type": "display_data",
          "data": {
            "text/plain": [
              "<Figure size 432x288 with 1 Axes>"
            ],
            "image/png": "[encoded data removed]"
          },
          "metadata": {
            "needs_background": "light"
          }
        }
      ]
    },
    {
      "cell_type": "code",
      "source": [
        "image, label = dataset[761]\n",
        "plt.imshow(image, cmap='gray')\n",
        "print('Label:', label)"
      ],
      "metadata": {
        "colab": {
          "base_uri": "https://localhost:8080/",
          "height": 283
        },
        "id": "NMUjN4nLtqKG",
        "outputId": "1821a726-7754-473f-9ad7-5450e7bd146c"
      },
      "execution_count": null,
      "outputs": [
        {
          "output_type": "stream",
          "name": "stdout",
          "text": [
            "Label: 8\n"
          ]
        },
        {
          "output_type": "display_data",
          "data": {
            "text/plain": [
              "<Figure size 432x288 with 1 Axes>"
            ],
            "image/png": "[encoded data removed]"
          },
          "metadata": {
            "needs_background": "light"
          }
        }
      ]
    },
    {
      "cell_type": "markdown",
      "source": [
        "\n",
        "❗ Each record in the MNIST dataset consists of 2 parts: \n",
        "- An **image** of a handwritten number \n",
        "- A **label** indicating the correct number appears in the image\n"
      ],
      "metadata": {
        "id": "ADEGl61At4VE"
      }
    },
    {
      "cell_type": "markdown",
      "source": [
        "## Section 2 -  Formulating a Machine Learning problem "
      ],
      "metadata": {
        "id": "pcibKmYR_OTW"
      }
    },
    {
      "cell_type": "markdown",
      "source": [
        "### 2.1 What does a general (supervised) machine learning problem look like?\n",
        "Machine learning can be applied to a host of different problems and situations, and models can be designed and trained to function as anything from a decision making machine to an intelligent chat bot. All of these revolve around taking in some input and outputting a desired answer.\n",
        "\n",
        "The most fundamental or classical machine learning problems can usually be categorized as either classification problems, or regression problems."
      ],
      "metadata": {
        "id": "cJ_YIMjJrCFr"
      }
    },
    {
      "cell_type": "markdown",
      "source": [
        "📖  Definition: **Classification**\n",
        "> Classification problems are when we are given data points, and we have to predict a label for them. For example, a classic problem is given an email, we want to predict whether it's spam or not."
      ],
      "metadata": {
        "id": "OhXyIp2EXAkA"
      }
    },
    {
      "cell_type": "markdown",
      "source": [
        "![Screenshot 2023-02-05 at 5.48.32 PM.png](data:image/png;base64,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)"
      ],
      "metadata": {
        "id": "bZ3FXr6jaesP"
      }
    },
    {
      "cell_type": "markdown",
      "source": [
        "📖  Definition: **Regression**\n",
        "> Regression problems usually involve predicting some continuous value, meaning a number. For example, given the face shot of a person, we want to predict their age."
      ],
      "metadata": {
        "id": "Cgq2fLfial39"
      }
    },
    {
      "cell_type": "markdown",
      "source": [
        "![Screenshot 2023-02-05 at 5.54.39 PM.png](data:image/png;base64,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)"
      ],
      "metadata": {
        "id": "eswOOTHubwIm"
      }
    },
    {
      "cell_type": "markdown",
      "source": [
        "❓ Describe our MNIST problem - which type of Machine Learning problem is it?"
      ],
      "metadata": {
        "id": "2GhQ_BYbWl9K"
      }
    },
    {
      "cell_type": "code",
      "source": [
        "Answer = \"\" #@param [\"\", \"Regression\", \"Classification\"]\n"
      ],
      "metadata": {
        "cellView": "form",
        "id": "oUmhpwB8mV0A"
      },
      "execution_count": null,
      "outputs": []
    },
    {
      "cell_type": "markdown",
      "source": [
        "### 2.2 Designing a loss function\n",
        "So now that we've established the basics of our problem, how do we decide when an output is good and when an output is bad? We need ways to express whether an answer is good or bad in a mathematical way."
      ],
      "metadata": {
        "id": "k2zSw1jLKvM9"
      }
    },
    {
      "cell_type": "markdown",
      "source": [
        "📖  Definition: **Loss Function**\n",
        "> Loss function measures how wrong your models predictionsare compared to the truth labels. Lower the better."
      ],
      "metadata": {
        "id": "1dpRPC4twL24"
      }
    },
    {
      "cell_type": "markdown",
      "source": [
        "Some common loss functions: \n"
      ],
      "metadata": {
        "id": "lsYk0Gp6zZD0"
      }
    },
    {
      "cell_type": "markdown",
      "source": [
        "<img src= \"https://i.imgur.com/7FAJ5TD.png\" width=600>"
      ],
      "metadata": {
        "id": "QG1HC0co7gsE"
      }
    },
    {
      "cell_type": "markdown",
      "source": [
        "Pytorch has many built-in loss function in `torch.nn` and `torch.nn.functional`. You can read more about them here:\n",
        "- https://pytorch.org/docs/stable/nn.html#loss-functions\n",
        "- https://pytorch.org/docs/stable/nn.functional.html\n"
      ],
      "metadata": {
        "id": "RtXVQbG1xAa-"
      }
    },
    {
      "cell_type": "markdown",
      "source": [
        "❓ What loss function(s) would be approriate for the MNIST problem?  "
      ],
      "metadata": {
        "id": "g1w-YZEv79Lu"
      }
    },
    {
      "cell_type": "code",
      "source": [
        "Answer = \"\" #@param {type:\"string\"}\n"
      ],
      "metadata": {
        "cellView": "form",
        "id": "varefoyU8Ppd"
      },
      "execution_count": null,
      "outputs": []
    },
    {
      "cell_type": "markdown",
      "source": [
        "### 2.3 Gradient Descent - Adjusting answer to be correct"
      ],
      "metadata": {
        "id": "Zda-7N1XrOKp"
      }
    },
    {
      "cell_type": "markdown",
      "source": [
        "Gradient Descent is an optimization algorithm used for minimizing the cost function in various machine learning algorithms\n"
      ],
      "metadata": {
        "id": "M0oP7hZqAino"
      }
    },
    {
      "cell_type": "markdown",
      "source": [
        "<img src=\"https://i.imgur.com/AAFjiMa.png\" width=400>"
      ],
      "metadata": {
        "id": "4sc1_zAMT_hG"
      }
    },
    {
      "cell_type": "markdown",
      "source": [
        "To implement Gradient Descent, here are all the steps you need to follow: \n",
        "```\n",
        "1. Generate predictions\n",
        "\n",
        "2. Calculate the loss using a loss function\n",
        "\n",
        "3. Compute gradients w.r.t the weights and biases\n",
        "\n",
        "4. Adjust the weights by subtracting a small quantity proportional to the gradient\n",
        "\n",
        "5. Reset the gradients to zero\n",
        "```\n"
      ],
      "metadata": {
        "id": "87bZkxlXAgcb"
      }
    },
    {
      "cell_type": "markdown",
      "source": [
        "### 2.4 Neural Networks"
      ],
      "metadata": {
        "id": "GbDkgDINrPJx"
      }
    },
    {
      "cell_type": "markdown",
      "source": [
        "<img src=\"https://i.imgur.com/UcfKllX.png\" width=400>"
      ],
      "metadata": {
        "id": "waEMvPNjVcpn"
      }
    },
    {
      "cell_type": "markdown",
      "source": [
        "❓ Let's start making a neural network with 1 hidden layer. Fill in the blank to complete a general architecture of our MNIST classification neural network "
      ],
      "metadata": {
        "id": "botZxED8XR78"
      }
    },
    {
      "cell_type": "markdown",
      "source": [
        "<img src=\"https://i.imgur.com/XMRNarE.png\" width=500>"
      ],
      "metadata": {
        "id": "0CjNI65jgn0D"
      }
    },
    {
      "cell_type": "code",
      "source": [
        "input_layer_features = 0 #@param {type:\"integer\"}\n",
        "hidden_layer_size = 1 #@param {type:\"integer\"}\n",
        "output_layer_size = 0 #@param {type:\"integer\"}\n",
        "hidden_layer_activation = \"\" #@param {type:\"string\"}\n",
        "loss_function = \"\" #@param {type:\"string\"}\n",
        "optimizer = \"\" #@param {type:\"string\"}\n",
        "\n",
        "\n",
        "\n",
        "\n"
      ],
      "metadata": {
        "id": "AuUF5gwzXr1s"
      },
      "execution_count": null,
      "outputs": []
    },
    {
      "cell_type": "markdown",
      "source": [
        "## Section 3 - Pytorch and Training Basics"
      ],
      "metadata": {
        "id": "TknP7gWmCJvB"
      }
    },
    {
      "cell_type": "markdown",
      "source": [
        "### 3.1 Pytorch Basics"
      ],
      "metadata": {
        "id": "xClsDXlOJNZM"
      }
    },
    {
      "cell_type": "markdown",
      "source": [
        "#### Tensors"
      ],
      "metadata": {
        "id": "6ZXfW0P8k6pf"
      }
    },
    {
      "cell_type": "markdown",
      "source": [
        "Tensors are a specialized data structure that are very similar to arrays and matrices. In PyTorch, we use tensors to encode the inputs and outputs of a model, as well as the model’s parameters."
      ],
      "metadata": {
        "id": "IiEmMoRGmKfo"
      }
    },
    {
      "cell_type": "markdown",
      "source": [
        "> Example: We can represent an image as a tensor with shape $[3, 224, 224]$ which would mean $[color -channels, height, width]$\n",
        "\n",
        "<img src=\"https://i.imgur.com/nvC8Y55.png\" width=800>"
      ],
      "metadata": {
        "id": "rsBON-srl4RU"
      }
    },
    {
      "cell_type": "code",
      "source": [
        "# Number \n",
        "t1 = torch.tensor(4.)\n",
        "\n",
        "print(t1.ndim) # dimensions of a tensor\n",
        "print (t1.shape) # shape of a tensor\n",
        "print(t1.item()) # retrieve the number within a tensor (one-element tensor only)"
      ],
      "metadata": {
        "id": "iKm5WS-CkYmo"
      },
      "execution_count": null,
      "outputs": []
    },
    {
      "cell_type": "code",
      "source": [
        "# Vector \n",
        "vector = torch.tensor([1,3,5]) \n",
        "\n",
        "# Matrix\n",
        "matrix = [[5., 6], [7, 8], [9, 10]]\n",
        "t3 = torch.tensor(matrix) "
      ],
      "metadata": {
        "id": "f1SGW8BgpEnw"
      },
      "execution_count": null,
      "outputs": []
    },
    {
      "cell_type": "code",
      "source": [
        "# Tensor\n",
        "tensor = torch.rand(3, 2, 3)\n",
        "\n",
        "# Find out details about the tensor\n",
        "print(tensor)\n",
        "print(f\"Shape of tensor: {tensor.shape}\")\n",
        "print(f\"Datatype of tensor: {tensor.dtype}\")\n",
        "print(f\"Device tensor is stored on: {tensor.device}\") # will default to CPU"
      ],
      "metadata": {
        "id": "P_MAMttvqmRN"
      },
      "execution_count": null,
      "outputs": []
    },
    {
      "cell_type": "markdown",
      "source": [
        "#### Tensors operations and functions"
      ],
      "metadata": {
        "id": "zbClrcMwm3ft"
      }
    },
    {
      "cell_type": "markdown",
      "source": [
        "Basic operations in includes:\n",
        "* Addition\n",
        "* Substraction\n",
        "* Multiplication (element-wise)\n",
        "* Division\n",
        "* Matrix multiplication"
      ],
      "metadata": {
        "id": "Ppf5u_3ZtW36"
      }
    },
    {
      "cell_type": "code",
      "source": [
        "t = torch.tensor([1, 2, 3, 5])\n",
        "print(\"Add 10:\", t + 10)\n",
        "print(\"Subtract tensor([ 1,  2,  3, 4]):\", torch.sub(t, torch.tensor([1, 2, 3, 4])))\n",
        "print(\"Element-wise multiplication: \", t * t) # = [1*1, 2*2, 3*3, 5*5]\n",
        "print(\"Matrix multiplication:\", torch.matmul(t, t)) # tensor @ tensor "
      ],
      "metadata": {
        "id": "oiKcd3zu1fue"
      },
      "execution_count": null,
      "outputs": []
    },
    {
      "cell_type": "markdown",
      "source": [
        "**Note**: In Pytorch, `@` and `torch.matmul` both denote matrix multiplication. However, you should use `torch.matmul` since it is faster"
      ],
      "metadata": {
        "id": "E7iyyoeeJyDX"
      }
    },
    {
      "cell_type": "code",
      "source": [
        "%%time\n",
        "t @ t"
      ],
      "metadata": {
        "id": "1n_K5ezWqibP"
      },
      "execution_count": null,
      "outputs": []
    },
    {
      "cell_type": "code",
      "source": [
        "%%time\n",
        "torch.matmul(t, t)"
      ],
      "metadata": {
        "id": "J_iAVPdavgCE"
      },
      "execution_count": null,
      "outputs": []
    },
    {
      "cell_type": "markdown",
      "source": [
        "#### Gradient"
      ],
      "metadata": {
        "id": "YIFtc2aZmZIV"
      }
    },
    {
      "cell_type": "code",
      "source": [
        "# Create tensors.\n",
        "x = torch.tensor(1., requires_grad=True)\n",
        "w = torch.tensor(2., requires_grad=True)\n",
        "b = torch.tensor(3., requires_grad=True)\n",
        "\n",
        "# Build a computational graph.\n",
        "y = w * x + b    # y = 2 * x + 3\n",
        "\n",
        "# Compute gradients.\n",
        "y.backward()\n",
        "\n",
        "# Print out the gradients.\n",
        "print(\"dy/dx:\", x.grad)    # x.grad = 2 \n",
        "print(\"dy/dw:\", w.grad)    # w.grad = 1 \n",
        "print(\"dy/db:\", b.grad)    # b.grad = 1 "
      ],
      "metadata": {
        "id": "Fegbl2EGncHM"
      },
      "execution_count": null,
      "outputs": []
    },
    {
      "cell_type": "markdown",
      "source": [
        "#### Interoperability with Numpy"
      ],
      "metadata": {
        "id": "kjhqCDR7ndSo"
      }
    },
    {
      "cell_type": "code",
      "source": [
        "# NumPy array to tensor\n",
        "import numpy as np\n",
        "array = np.arange(1.0, 8.0)\n",
        "tensor = torch.from_numpy(array)\n",
        "array, tensor"
      ],
      "metadata": {
        "id": "9CxYMwiemYmO"
      },
      "execution_count": null,
      "outputs": []
    },
    {
      "cell_type": "markdown",
      "source": [
        "#### Running Tensors on GPU"
      ],
      "metadata": {
        "id": "tIpm_ep-K3lQ"
      }
    },
    {
      "cell_type": "markdown",
      "source": [
        "In Google Colab, you can choose to run on GPU by select **Runtime** -> **Change runtime type** -> **Hardware Accelarator** -> **GPU**"
      ],
      "metadata": {
        "id": "HTJRbkb7__KQ"
      }
    },
    {
      "cell_type": "code",
      "source": [
        "# Check for GPU\n",
        "torch.cuda.is_available()"
      ],
      "metadata": {
        "id": "nvt7EtMS_SqX"
      },
      "execution_count": null,
      "outputs": []
    },
    {
      "cell_type": "code",
      "source": [
        "# Set device type\n",
        "device = \"cuda\" if torch.cuda.is_available() else \"cpu\"\n",
        "device"
      ],
      "metadata": {
        "id": "uya45nVNAx9E"
      },
      "execution_count": null,
      "outputs": []
    },
    {
      "cell_type": "markdown",
      "source": [
        "By default, our code will run on CPU. However, you can move the tensors to your device of choice (GPU) to speed up numerical computation"
      ],
      "metadata": {
        "id": "GZ6CF10wBASe"
      }
    },
    {
      "cell_type": "code",
      "source": [
        "# Create tensor (default on CPU)\n",
        "tensor = torch.tensor([4, 5, 6, 7])\n",
        "\n",
        "# Tensor not on GPU\n",
        "print(tensor, tensor.device)\n",
        "\n",
        "# Move tensor to GPU (if available)\n",
        "tensor_on_gpu = tensor.to(device)\n",
        "tensor_on_gpu"
      ],
      "metadata": {
        "id": "4woYXw3m_s1z"
      },
      "execution_count": null,
      "outputs": []
    },
    {
      "cell_type": "markdown",
      "source": [
        "### 3.2 Training Models "
      ],
      "metadata": {
        "id": "-fbntXicCLh_"
      }
    },
    {
      "cell_type": "markdown",
      "source": [
        "While building real-world machine learning models, it is quite common to split the dataset into three parts:\n",
        "\n",
        "* **Training set** - used to train the model, i.e., compute the loss and adjust the model's weights using gradient descent.\n",
        "* **Validation set** - used to evaluate the model during training, adjust hyperparameters (learning rate, etc.), and pick the best version of the model.\n",
        "* **Test set** - used to compare different models or approaches and report the model's final accuracy.\n"
      ],
      "metadata": {
        "id": "mQeFKhdetd_X"
      }
    },
    {
      "cell_type": "markdown",
      "source": [
        "## Section 4 - Making a MLP piece-by-piece"
      ],
      "metadata": {
        "id": "7gJNzxuBLDyv"
      }
    },
    {
      "cell_type": "markdown",
      "source": [
        "Fill in the `#❗TODO` below to build a simple neural network\n"
      ],
      "metadata": {
        "id": "sLwUeGlNhSJK"
      }
    },
    {
      "cell_type": "markdown",
      "source": [
        "### 1. Prepare the data"
      ],
      "metadata": {
        "id": "oBMy-k24qaXm"
      }
    },
    {
      "cell_type": "markdown",
      "source": [
        "First, we need to convert the images in our dataset into PyTorch tensors"
      ],
      "metadata": {
        "id": "wN5l8nuvGeHc"
      }
    },
    {
      "cell_type": "code",
      "source": [
        "# MNIST dataset (images and labels) \n",
        "dataset = MNIST(root='data/', \n",
        "                train=True,\n",
        "                transform=ToTensor())\n",
        "\n",
        "# Look at the first tensor in our dataset\n",
        "img_tensor, label = dataset[0]\n",
        "print(img_tensor.shape, label)"
      ],
      "metadata": {
        "id": "0828xw6UDO5v"
      },
      "execution_count": null,
      "outputs": []
    },
    {
      "cell_type": "markdown",
      "source": [
        "We can use `random_split` function to randomly split a dataset into non-overlapping new datasets of given lengths. You can specify an amount of each smaller dataset or provide a list of fractions that sum up to 1. "
      ],
      "metadata": {
        "id": "j9ekCNh6IJ5c"
      }
    },
    {
      "cell_type": "code",
      "source": [
        "# Split data into train, validation and test sets \n",
        "train, val, test = # ❗TODO: use random_split to split your data into train set (60%), validation set (20%), and test set (20%)\n",
        "len(train), len(val), len(test)"
      ],
      "metadata": {
        "id": "NBog6jMgEVhX"
      },
      "execution_count": null,
      "outputs": []
    },
    {
      "cell_type": "markdown",
      "source": [
        "Additionally, you can load data into batches to train with Mini-batch Gradient Descent. This is most common variation of Gradient Descent used in deep learning. \n",
        "\n",
        "To learn more about Mini-batch Gradient Descent, you can read here: \n",
        "- https://towardsdatascience.com/batch-mini-batch-stochastic-gradient-descent-7a62ecba642a\n"
      ],
      "metadata": {
        "id": "EWA11lQNtwP8"
      }
    },
    {
      "cell_type": "code",
      "source": [
        "# Load data into batches\n",
        "batch_size=128\n",
        "train_loader = #❗TODO: use DataLoader to load train data into batches for training\n",
        "val_loader = #❗TODO: use DataLoader to load val data into batches for validation"
      ],
      "metadata": {
        "id": "4ZdMJ8OgDdtY"
      },
      "execution_count": null,
      "outputs": []
    },
    {
      "cell_type": "markdown",
      "source": [
        "###2. Build a Neural Network model\n",
        "\n",
        "We will implement a simple neural network with `1 hidden layer` and `1 activation fuction` for the output of hidden layer only. "
      ],
      "metadata": {
        "id": "cWTMZXnWiKlV"
      }
    },
    {
      "cell_type": "code",
      "source": [
        "class NeuralNetwork(nn.Module):\n",
        "  def __init__(self, in_size, hidden_size, out_size):\n",
        "        super().__init__()\n",
        "        #❗TODO: Use nn.Linear to make the hidden layer given in_size and hidden_size\n",
        "        #❗TODO: Use nn.Linear to make the output layer given hidden_size and out_size\n",
        "        \n",
        "  def forward(self, xb):\n",
        "      #❗TODO: Flatten the image tensors\n",
        "      #❗TODO: Get intermediate outputs using hidden layer\n",
        "      #❗TODO: Apply activation function\n",
        "      #❗TODO: Get predictions using output layer\n",
        "      return #❗TODO: return the prediction results\n",
        "  \n",
        "  def train(self, batch):\n",
        "      images, labels = batch \n",
        "      out = self(images)  # Generate predictions\n",
        "      loss = #❗TODO: Calculate loss with the loss function of your choice \n",
        "      return loss\n",
        "  \n",
        "  def validation(self, batch):\n",
        "      images, labels = batch \n",
        "      out = self(images)                    # Generate predictions\n",
        "      loss = #❗TODO: Calculate loss with the loss function of your choice \n",
        "      acc = accuracy(out, labels)           # Calculate accuracy\n",
        "      return {'val_loss': loss, 'val_acc': acc}\n",
        "      \n",
        "  def validation_epoch_end(self, outputs):\n",
        "      batch_losses = [x['val_loss'] for x in outputs]\n",
        "      epoch_loss = torch.stack(batch_losses).mean()   # Combine losses\n",
        "      batch_accs = [x['val_acc'] for x in outputs]\n",
        "      epoch_acc = torch.stack(batch_accs).mean()      # Combine accuracies\n",
        "      return {'val_loss': epoch_loss.item(), 'val_acc': epoch_acc.item()}\n",
        "  \n",
        "  def epoch_result(self, epoch, result):\n",
        "      print(\"Epoch [{}], val_loss: {:.4f}, val_acc: {:.4f}\".format(epoch, result['val_loss'], result['val_acc']))"
      ],
      "metadata": {
        "id": "UaF3RjsDHDRj"
      },
      "execution_count": null,
      "outputs": []
    },
    {
      "cell_type": "markdown",
      "source": [
        "### 3. Build a training and validation loop"
      ],
      "metadata": {
        "id": "G8NcDITSjqy-"
      }
    },
    {
      "cell_type": "code",
      "source": [
        "def accuracy(outputs, labels):\n",
        "    _, preds = torch.max(outputs, dim=1)\n",
        "    return torch.tensor(torch.sum(preds == labels).item() / len(preds))\n",
        "\n",
        "def evaluate(model, val_loader):\n",
        "    \"\"\"Evaluate the model's performance on the validation set\"\"\"\n",
        "    outputs = [model.validation(batch) for batch in val_loader]\n",
        "    return model.validation_epoch_end(outputs)\n",
        "\n",
        "def fit(epochs, lr, model, train_loader, val_loader, opt_func=torch.optim.SGD):\n",
        "    \"\"\"Train the model using gradient descent\"\"\"\n",
        "    train_loss = []\n",
        "    val_history = []\n",
        "    optimizer = opt_func(model.parameters(), lr)\n",
        "    for epoch in range(epochs):\n",
        "        # Training  \n",
        "        train_loss_epoch = []\n",
        "        for batch in train_loader:\n",
        "            # 1. Train model and calculate loss\n",
        "            loss = #❗TODO: Train model and calculate loss  \n",
        "            train_loss_epoch.append(loss)\n",
        "\n",
        "            # 2. Calculate Gradients\n",
        "            #❗TODO\n",
        "\n",
        "            # 3. Update parameters using Gradients\n",
        "            #❗TODO (hint: using optimizer's function to achieve this in one line)\n",
        "\n",
        "            # 5. Reset the gradients to zero\n",
        "            #❗TODO (hint: using optimizer's function to achieve this in one line)\n",
        "            \n",
        "        # Training result\n",
        "        train_loss.append(torch.stack(train_loss_epoch).mean().item())\n",
        "\n",
        "        # Validation phase\n",
        "        result = #❗TODO: Evaluate model on validation set\n",
        "        #❗TODO: Get validation result at the end of the epcoh\n",
        "        val_history.append(result)\n",
        "    return train_loss, val_history"
      ],
      "metadata": {
        "id": "4A2PYdH_mUIO"
      },
      "execution_count": null,
      "outputs": []
    },
    {
      "cell_type": "markdown",
      "source": [
        "The code block below handle moving tensors to a specific device. You need to execute this cell for the later cells to run, but do not worry too much about it for now!"
      ],
      "metadata": {
        "id": "eKtVRoWdhpN0"
      }
    },
    {
      "cell_type": "code",
      "source": [
        "def to_device(data, device):\n",
        "    \"\"\"Move tensor(s) to chosen device\"\"\"\n",
        "    if isinstance(data, (list,tuple)):\n",
        "        return [to_device(x, device) for x in data]\n",
        "    return data.to(device, non_blocking=True)\n",
        "\n",
        "def get_default_device():\n",
        "    \"\"\"Set up device: Choose GPU if available, else CPU\"\"\"\n",
        "    if torch.cuda.is_available():\n",
        "        return torch.device('cuda')\n",
        "    else:\n",
        "        return torch.device('cpu') \n",
        "\n",
        "class DeviceDataLoader():\n",
        "    \"\"\"Wrap a dataloader to move data to a device\"\"\"\n",
        "    def __init__(self, dl, device):\n",
        "        self.dl = dl\n",
        "        self.device = device\n",
        "        \n",
        "    def __iter__(self):\n",
        "        \"\"\"Yield a batch of data after moving it to device\"\"\"\n",
        "        for b in self.dl: \n",
        "            yield to_device(b, self.device)\n",
        "\n",
        "    def __len__(self):\n",
        "        \"\"\"Number of batches\"\"\"\n",
        "        return len(self.dl)\n",
        "\n",
        "# Move train and validation data to the chosen device \n",
        "train_loader = DeviceDataLoader(train_loader, get_default_device())\n",
        "val_loader = DeviceDataLoader(val_loader, get_default_device())"
      ],
      "metadata": {
        "id": "I0jGhrnYB4Y-"
      },
      "execution_count": null,
      "outputs": []
    },
    {
      "cell_type": "markdown",
      "source": [
        "### 4. Train the model"
      ],
      "metadata": {
        "id": "3v6k32lQlrAk"
      }
    },
    {
      "cell_type": "code",
      "source": [
        "# Set up the model\n",
        "model = #❗TODO: Initilize a Neural Network\n",
        "\n",
        "# Manage devices (GPUs)\n",
        "device = #❗TODO: set up device for the model (choose GPU if available, if not choose CPU)\n",
        "to_device(model, device)\n",
        "\n",
        "# See performance on validation set with initial weight before training\n",
        "val_init = [evaluate(model, val_loader)]\n",
        "print(val_init)\n",
        "\n",
        "# Parameters\n",
        "input_size = #❗TODO\n",
        "hidden_size = #❗TODO \n",
        "num_classes = #❗TODO\n",
        "epochs = #❗TODO\n",
        "lr = #❗TODO\n",
        "\n",
        "# Train model\n",
        "train_loss, val_history = #❗TODO: make the function call to start training the model with given parameters"
      ],
      "metadata": {
        "id": "edb2GcxvheBj"
      },
      "execution_count": null,
      "outputs": []
    },
    {
      "cell_type": "code",
      "source": [
        "# Visualization\n",
        "val_losses = [x['val_loss'] for x in val_history]\n",
        "val_accuracies = [x['val_acc'] for x in val_history]\n",
        "train_losses = [x for x in train_loss]\n",
        "\n",
        "plt.plot(val_losses, '-o', label='val_losses')\n",
        "plt.plot(val_accuracies, '-x', label='val_accuracies')\n",
        "plt.plot(train_losses, '-*', label='train_losses')\n",
        "\n",
        "plt.legend()\n",
        "plt.xlabel('epoch')\n",
        "plt.title('Loss/Accuracy vs. No. of epochs');"
      ],
      "metadata": {
        "id": "fQ_3ArkmnPXV"
      },
      "execution_count": null,
      "outputs": []
    },
    {
      "cell_type": "markdown",
      "source": [
        "### 5.  Evaluate the model on test set and make predictions "
      ],
      "metadata": {
        "id": "wmsAwk_opjUH"
      }
    },
    {
      "cell_type": "markdown",
      "source": [
        "Lastly, you need to examine model's performance on test set. In addition, you can also use this `predict_image()` function to predict a label for a single image tensor and see if our model predict the correct label in most cases."
      ],
      "metadata": {
        "id": "uA5sOFAl-y5F"
      }
    },
    {
      "cell_type": "code",
      "source": [
        "# ❗TODO: Examine model's performance on test set"
      ],
      "metadata": {
        "id": "g_BlSsz9_Hdt"
      },
      "execution_count": null,
      "outputs": []
    },
    {
      "cell_type": "code",
      "source": [
        "def predict_image(img, model):\n",
        "   x = to_device(img.unsqueeze(0), device)\n",
        "   y = model(x)\n",
        "   _, preds  = torch.max(y, dim=1)\n",
        "   return preds[0].item()\n",
        "\n",
        "# ❗TODO: Check the model's results on some images in the dataset"
      ],
      "metadata": {
        "id": "XB5loSEhoEJx"
      },
      "execution_count": null,
      "outputs": []
    },
    {
      "cell_type": "markdown",
      "source": [
        "Resources:\n",
        "\n",
        "\n",
        "*   https://jovian.com/aakashns/04-feedforward-nn#C0\n",
        "*   https://www.learnpytorch.io/02_pytorch_classification/\n",
        "* https://d2l.ai/index.html\n",
        "\n",
        "\n"
      ],
      "metadata": {
        "id": "As1sez4Tw-Q2"
      }
    }
  ]
}