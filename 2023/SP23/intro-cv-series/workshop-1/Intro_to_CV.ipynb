{
  "cells": [
    {
      "cell_type": "markdown",
      "metadata": {
        "id": "lrPpS1rpCK-h"
      },
      "source": [
        "# Intro to CV Workshop 1: Getting Started with Computer Vision"
      ]
    },
    {
      "cell_type": "markdown",
      "metadata": {
        "id": "X_yXZfg-9Fa-"
      },
      "source": [
        "## Section 1 - Overview of Computer Vision\n"
      ]
    },
    {
      "cell_type": "markdown",
      "metadata": {
        "id": "t-rte0n6Jrn5"
      },
      "source": [
        "### 1.1 Introduction of Computer Vision\n"
      ]
    },
    {
      "attachments": {},
      "cell_type": "markdown",
      "metadata": {},
      "source": [
        "Welcome to Intro to Computer Vision! This will be a three part workshop series focused on building an overview of the underlying algorithms and applications of Computer Vision. For our first workshop, we'll be focusing on PyTorch - a machine learning framework used for AI applications - and neural networks - the foundational concept underlying computer vision algorithms such as CNN (Convolutional Neural Networks) that power visual imagery analysis. \n",
        "\n",
        "Let's get started!"
      ]
    },
    {
      "attachments": {},
      "cell_type": "markdown",
      "metadata": {},
      "source": [
        "### What is Computer Vision?\n",
        "\n",
        "Computer Vision is a subfield of AI that focuses on computers deriving and understanding information based on visual data - images, videos, etc. The applications are numerous including but not limited to autonomous vehicles, facial recognition, and medical imaging. "
      ]
    },
    {
      "attachments": {},
      "cell_type": "markdown",
      "metadata": {},
      "source": [
        "### Terminology\n",
        "\n",
        "Before diving into Computer Vision, we have to understand the terminology relevant to AI. Often times, we hear these words being tossed around, and even used interchangeably: Artificial Intellignece, Machine Learning, Deep Learning, Neural Networks, etc. What do they mean and what's their relationship with each other? \n",
        "\n",
        "Artificial Intelligence is a field that aims to enable computers to think like humans. \n",
        "\n",
        "Machine Learning is a subset of AI. It's a process of using mathematical models and data to train computers to learn without direct instruction. \n",
        "\n",
        "Deep Learning is a subset of ML. Deep Learning models are modeled after human brains in order to increase machine performance in complex tasks. \n",
        "\n",
        "Neural Networks are the backbone of deep learning. They're structured as interconnected nodes. The 'deep' in DL refers to multiple layers of neural networks to form a structure resembling the human brain\n",
        "\n",
        "Computer Vision is simply the application of AI to visual data. \n"
      ]
    },
    {
      "attachments": {},
      "cell_type": "markdown",
      "metadata": {},
      "source": [
        "### General Machine Learning\n",
        "\n",
        "Now that we're clear o the terminology, let's talk about the default method to mimic human intelligence, Machine Learning. In doing so, you will see why neural networks and deep learning exist - and their necessity in Computer Vision. We'll be using the MNIST dataset to demostrate ML. "
      ]
    },
    {
      "cell_type": "markdown",
      "metadata": {
        "id": "LAy-avyOKTPw"
      },
      "source": [
        " ### 1.2 The MNIST Dataset"
      ]
    },
    {
      "cell_type": "markdown",
      "metadata": {
        "id": "TknP7gWmCJvB"
      },
      "source": [
        "## Section 2 - Basics of basics"
      ]
    },
    {
      "cell_type": "markdown",
      "metadata": {
        "id": "xClsDXlOJNZM"
      },
      "source": [
        "### 2.1 Pytorch Basics"
      ]
    },
    {
      "cell_type": "markdown",
      "metadata": {
        "id": "vKDff4XKJgx_"
      },
      "source": [
        "### 2.2 Model Training and Evaluation"
      ]
    },
    {
      "cell_type": "markdown",
      "metadata": {
        "id": "pcibKmYR_OTW"
      },
      "source": [
        "## Section 3 -  Formulating a Machine Learning problem "
      ]
    },
    {
      "cell_type": "markdown",
      "metadata": {
        "id": "tIpm_ep-K3lQ"
      },
      "source": [
        "(feel free to edit the outline)"
      ]
    },
    {
      "cell_type": "markdown",
      "metadata": {
        "id": "hanQrmfxCH5C"
      },
      "source": [
        "### 3.1 Set up MLP Architecture (NN layers, activation function)\n"
      ]
    },
    {
      "cell_type": "markdown",
      "metadata": {
        "id": "k2zSw1jLKvM9"
      },
      "source": [
        "### 3.2 Loss function and  Regularization (L1/L2/Dropout)"
      ]
    },
    {
      "cell_type": "markdown",
      "metadata": {
        "id": "ZAqFgipcKx6S"
      },
      "source": [
        "### 3.3 Learning and Evaluation (Gradient Descent, SGD)\n"
      ]
    },
    {
      "cell_type": "markdown",
      "metadata": {
        "id": "7gJNzxuBLDyv"
      },
      "source": [
        "## Section 4 - Making a MLP piece-by-piece"
      ]
    },
    {
      "cell_type": "markdown",
      "metadata": {
        "id": "tbIiaUguLUoU"
      },
      "source": [
        "## Section 5 - Putting it together for CV (Can change this later)"
      ]
    }
  ],
  "metadata": {
    "colab": {
      "provenance": []
    },
    "kernelspec": {
      "display_name": "Python 3.10.7 64-bit",
      "language": "python",
      "name": "python3"
    },
    "language_info": {
      "name": "python",
      "version": "3.10.7"
    },
    "vscode": {
      "interpreter": {
        "hash": "aee8b7b246df8f9039afb4144a1f6fd8d2ca17a180786b69acc140d282b71a49"
      }
    }
  },
  "nbformat": 4,
  "nbformat_minor": 0
}
