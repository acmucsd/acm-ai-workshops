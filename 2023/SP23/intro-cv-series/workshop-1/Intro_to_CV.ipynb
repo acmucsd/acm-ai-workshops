{
  "nbformat": 4,
  "nbformat_minor": 0,
  "metadata": {
    "colab": {
      "provenance": []
    },
    "kernelspec": {
      "name": "python3",
      "display_name": "Python 3"
    },
    "language_info": {
      "name": "python"
    }
  },
  "cells": [
    {
      "cell_type": "markdown",
      "source": [
        "# Intro to CV Workshop 1: Getting Started with Computer Vision"
      ],
      "metadata": {
        "id": "lrPpS1rpCK-h"
      }
    },
    {
      "cell_type": "markdown",
      "source": [
        "## Section 1 - Overview of Computer Vision\n"
      ],
      "metadata": {
        "id": "X_yXZfg-9Fa-"
      }
    },
    {
      "cell_type": "markdown",
      "source": [
        "### 1.1 Introduction of Computer Vision\n"
      ],
      "metadata": {
        "id": "t-rte0n6Jrn5"
      }
    },
    {
      "cell_type": "markdown",
      "source": [
        " ### 1.2 The MNIST Dataset"
      ],
      "metadata": {
        "id": "LAy-avyOKTPw"
      }
    },
    {
      "cell_type": "markdown",
      "source": [
        "## Section 2 - Basics of basics"
      ],
      "metadata": {
        "id": "TknP7gWmCJvB"
      }
    },
    {
      "cell_type": "markdown",
      "source": [
        "### 2.1 Pytorch Basics"
      ],
      "metadata": {
        "id": "xClsDXlOJNZM"
      }
    },
    {
      "cell_type": "markdown",
      "source": [
        "### 2.2 Model Training and Evaluation"
      ],
      "metadata": {
        "id": "vKDff4XKJgx_"
      }
    },
    {
      "cell_type": "markdown",
      "source": [
        "## Section 3 -  Formulating a Machine Learning problem "
      ],
      "metadata": {
        "id": "pcibKmYR_OTW"
      }
    },
    {
      "cell_type": "markdown",
      "source": [
        "(feel free to edit the outline)"
      ],
      "metadata": {
        "id": "tIpm_ep-K3lQ"
      }
    },
    {
      "cell_type": "markdown",
      "source": [
        "### 3.1 Set up MLP Architecture (NN layers, activation function)\n"
      ],
      "metadata": {
        "id": "hanQrmfxCH5C"
      }
    },
    {
      "cell_type": "markdown",
      "source": [
        "### 3.2 Loss function and  Regularization (L1/L2/Dropout)"
      ],
      "metadata": {
        "id": "k2zSw1jLKvM9"
      }
    },
    {
      "cell_type": "markdown",
      "source": [
        "### 3.3 Learning and Evaluation (Gradient Descent, SGD)\n"
      ],
      "metadata": {
        "id": "ZAqFgipcKx6S"
      }
    },
    {
      "cell_type": "markdown",
      "source": [
        "## Section 4 - Making a MLP piece-by-piece"
      ],
      "metadata": {
        "id": "7gJNzxuBLDyv"
      }
    },
    {
      "cell_type": "markdown",
      "source": [
        "## Section 5 - Putting it together for CV (Can change this later)"
      ],
      "metadata": {
        "id": "tbIiaUguLUoU"
      }
    }
  ]
}